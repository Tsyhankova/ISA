{
 "cells": [
  {
   "cell_type": "markdown",
   "metadata": {},
   "source": [
    "# EDA- czyszczenie i przygotowanie danych"
   ]
  },
  {
   "cell_type": "markdown",
   "metadata": {},
   "source": [
    "### 1. Import bibliotek"
   ]
  },
  {
   "cell_type": "code",
   "execution_count": 135,
   "metadata": {},
   "outputs": [],
   "source": [
    "import pandas as pd\n",
    "import matplotlib.pyplot as plt\n",
    "pd.set_option('display.float_format', lambda x: '%.3f' % x)"
   ]
  },
  {
   "cell_type": "markdown",
   "metadata": {},
   "source": [
    "### 2. Import danych z plikow csv:  `account`, `district`, `trans`\n",
    "Wskazówka:\n",
    "- funkcja `read_csv` może automatycznie wywnioskować i załadować plik zip, przeczytaj dokumentację parametru `compression` jeśli jesteś zainteresowany szczegółami\n",
    "- możesz zignorować ostrzeżenie podczas czytania pliku `trans.csv.zip`. Aby go usunąć, postępuj zgodnie z instrukcjami ostrzegawczymi."
   ]
  },
  {
   "cell_type": "code",
   "execution_count": 136,
   "metadata": {},
   "outputs": [],
   "source": [
    "account = pd.read_csv('account.csv')\n",
    "district = pd.read_csv('district.csv')"
   ]
  },
  {
   "cell_type": "code",
   "execution_count": 137,
   "metadata": {},
   "outputs": [],
   "source": [
    "trans = pd.read_csv('trans.csv.zip', low_memory = False)"
   ]
  },
  {
   "cell_type": "markdown",
   "metadata": {},
   "source": [
    "### 3. Zerknij na describe, head kazdego DataFrame"
   ]
  },
  {
   "cell_type": "code",
   "execution_count": 138,
   "metadata": {},
   "outputs": [
    {
     "data": {
      "text/html": [
       "<div>\n",
       "<style scoped>\n",
       "    .dataframe tbody tr th:only-of-type {\n",
       "        vertical-align: middle;\n",
       "    }\n",
       "\n",
       "    .dataframe tbody tr th {\n",
       "        vertical-align: top;\n",
       "    }\n",
       "\n",
       "    .dataframe thead th {\n",
       "        text-align: right;\n",
       "    }\n",
       "</style>\n",
       "<table border=\"1\" class=\"dataframe\">\n",
       "  <thead>\n",
       "    <tr style=\"text-align: right;\">\n",
       "      <th></th>\n",
       "      <th>account_id</th>\n",
       "      <th>district_id</th>\n",
       "      <th>client_id</th>\n",
       "    </tr>\n",
       "  </thead>\n",
       "  <tbody>\n",
       "    <tr>\n",
       "      <th>count</th>\n",
       "      <td>4500.000</td>\n",
       "      <td>4500.000</td>\n",
       "      <td>4500.000</td>\n",
       "    </tr>\n",
       "    <tr>\n",
       "      <th>mean</th>\n",
       "      <td>2786.068</td>\n",
       "      <td>37.310</td>\n",
       "      <td>3381.096</td>\n",
       "    </tr>\n",
       "    <tr>\n",
       "      <th>std</th>\n",
       "      <td>2313.812</td>\n",
       "      <td>25.177</td>\n",
       "      <td>2839.605</td>\n",
       "    </tr>\n",
       "    <tr>\n",
       "      <th>min</th>\n",
       "      <td>1.000</td>\n",
       "      <td>1.000</td>\n",
       "      <td>1.000</td>\n",
       "    </tr>\n",
       "    <tr>\n",
       "      <th>25%</th>\n",
       "      <td>1182.750</td>\n",
       "      <td>13.000</td>\n",
       "      <td>1424.750</td>\n",
       "    </tr>\n",
       "    <tr>\n",
       "      <th>50%</th>\n",
       "      <td>2368.000</td>\n",
       "      <td>38.000</td>\n",
       "      <td>2861.000</td>\n",
       "    </tr>\n",
       "    <tr>\n",
       "      <th>75%</th>\n",
       "      <td>3552.250</td>\n",
       "      <td>60.000</td>\n",
       "      <td>4287.250</td>\n",
       "    </tr>\n",
       "    <tr>\n",
       "      <th>max</th>\n",
       "      <td>11382.000</td>\n",
       "      <td>77.000</td>\n",
       "      <td>13998.000</td>\n",
       "    </tr>\n",
       "  </tbody>\n",
       "</table>\n",
       "</div>"
      ],
      "text/plain": [
       "       account_id  district_id  client_id\n",
       "count    4500.000     4500.000   4500.000\n",
       "mean     2786.068       37.310   3381.096\n",
       "std      2313.812       25.177   2839.605\n",
       "min         1.000        1.000      1.000\n",
       "25%      1182.750       13.000   1424.750\n",
       "50%      2368.000       38.000   2861.000\n",
       "75%      3552.250       60.000   4287.250\n",
       "max     11382.000       77.000  13998.000"
      ]
     },
     "execution_count": 138,
     "metadata": {},
     "output_type": "execute_result"
    }
   ],
   "source": [
    "account.describe()"
   ]
  },
  {
   "cell_type": "code",
   "execution_count": 139,
   "metadata": {},
   "outputs": [
    {
     "data": {
      "text/html": [
       "<div>\n",
       "<style scoped>\n",
       "    .dataframe tbody tr th:only-of-type {\n",
       "        vertical-align: middle;\n",
       "    }\n",
       "\n",
       "    .dataframe tbody tr th {\n",
       "        vertical-align: top;\n",
       "    }\n",
       "\n",
       "    .dataframe thead th {\n",
       "        text-align: right;\n",
       "    }\n",
       "</style>\n",
       "<table border=\"1\" class=\"dataframe\">\n",
       "  <thead>\n",
       "    <tr style=\"text-align: right;\">\n",
       "      <th></th>\n",
       "      <th>account_id</th>\n",
       "      <th>district_id</th>\n",
       "      <th>frequency</th>\n",
       "      <th>account_open_date</th>\n",
       "      <th>client_id</th>\n",
       "    </tr>\n",
       "  </thead>\n",
       "  <tbody>\n",
       "    <tr>\n",
       "      <th>0</th>\n",
       "      <td>576</td>\n",
       "      <td>55</td>\n",
       "      <td>MONTHLY STATEMENTS</td>\n",
       "      <td>1993-01-01</td>\n",
       "      <td>692</td>\n",
       "    </tr>\n",
       "    <tr>\n",
       "      <th>1</th>\n",
       "      <td>3818</td>\n",
       "      <td>74</td>\n",
       "      <td>MONTHLY STATEMENTS</td>\n",
       "      <td>1993-01-01</td>\n",
       "      <td>4601</td>\n",
       "    </tr>\n",
       "    <tr>\n",
       "      <th>2</th>\n",
       "      <td>704</td>\n",
       "      <td>55</td>\n",
       "      <td>MONTHLY STATEMENTS</td>\n",
       "      <td>1993-01-01</td>\n",
       "      <td>844</td>\n",
       "    </tr>\n",
       "    <tr>\n",
       "      <th>3</th>\n",
       "      <td>2378</td>\n",
       "      <td>16</td>\n",
       "      <td>MONTHLY STATEMENTS</td>\n",
       "      <td>1993-01-01</td>\n",
       "      <td>2873</td>\n",
       "    </tr>\n",
       "    <tr>\n",
       "      <th>4</th>\n",
       "      <td>2632</td>\n",
       "      <td>24</td>\n",
       "      <td>MONTHLY STATEMENTS</td>\n",
       "      <td>1993-01-02</td>\n",
       "      <td>3177</td>\n",
       "    </tr>\n",
       "  </tbody>\n",
       "</table>\n",
       "</div>"
      ],
      "text/plain": [
       "   account_id  district_id           frequency account_open_date  client_id\n",
       "0         576           55  MONTHLY STATEMENTS        1993-01-01        692\n",
       "1        3818           74  MONTHLY STATEMENTS        1993-01-01       4601\n",
       "2         704           55  MONTHLY STATEMENTS        1993-01-01        844\n",
       "3        2378           16  MONTHLY STATEMENTS        1993-01-01       2873\n",
       "4        2632           24  MONTHLY STATEMENTS        1993-01-02       3177"
      ]
     },
     "execution_count": 139,
     "metadata": {},
     "output_type": "execute_result"
    }
   ],
   "source": [
    "account.head()"
   ]
  },
  {
   "cell_type": "code",
   "execution_count": 140,
   "metadata": {},
   "outputs": [
    {
     "data": {
      "text/html": [
       "<div>\n",
       "<style scoped>\n",
       "    .dataframe tbody tr th:only-of-type {\n",
       "        vertical-align: middle;\n",
       "    }\n",
       "\n",
       "    .dataframe tbody tr th {\n",
       "        vertical-align: top;\n",
       "    }\n",
       "\n",
       "    .dataframe thead th {\n",
       "        text-align: right;\n",
       "    }\n",
       "</style>\n",
       "<table border=\"1\" class=\"dataframe\">\n",
       "  <thead>\n",
       "    <tr style=\"text-align: right;\">\n",
       "      <th></th>\n",
       "      <th>district_id</th>\n",
       "      <th>population</th>\n",
       "      <th>average_salary</th>\n",
       "      <th>unemployment_rate</th>\n",
       "      <th>num_committed_crimes</th>\n",
       "    </tr>\n",
       "  </thead>\n",
       "  <tbody>\n",
       "    <tr>\n",
       "      <th>count</th>\n",
       "      <td>76.000</td>\n",
       "      <td>76.000</td>\n",
       "      <td>66.000</td>\n",
       "      <td>66.000</td>\n",
       "      <td>67.000</td>\n",
       "    </tr>\n",
       "    <tr>\n",
       "      <th>mean</th>\n",
       "      <td>38.500</td>\n",
       "      <td>133692.000</td>\n",
       "      <td>8984.379</td>\n",
       "      <td>3.836</td>\n",
       "      <td>5164.567</td>\n",
       "    </tr>\n",
       "    <tr>\n",
       "      <th>std</th>\n",
       "      <td>22.083</td>\n",
       "      <td>137812.666</td>\n",
       "      <td>782.234</td>\n",
       "      <td>1.840</td>\n",
       "      <td>12069.629</td>\n",
       "    </tr>\n",
       "    <tr>\n",
       "      <th>min</th>\n",
       "      <td>1.000</td>\n",
       "      <td>42821.000</td>\n",
       "      <td>8110.000</td>\n",
       "      <td>0.430</td>\n",
       "      <td>888.000</td>\n",
       "    </tr>\n",
       "    <tr>\n",
       "      <th>25%</th>\n",
       "      <td>19.750</td>\n",
       "      <td>84725.000</td>\n",
       "      <td>8441.750</td>\n",
       "      <td>2.455</td>\n",
       "      <td>2081.000</td>\n",
       "    </tr>\n",
       "    <tr>\n",
       "      <th>50%</th>\n",
       "      <td>38.500</td>\n",
       "      <td>108391.000</td>\n",
       "      <td>8755.500</td>\n",
       "      <td>3.655</td>\n",
       "      <td>2822.000</td>\n",
       "    </tr>\n",
       "    <tr>\n",
       "      <th>75%</th>\n",
       "      <td>57.250</td>\n",
       "      <td>138277.000</td>\n",
       "      <td>9298.250</td>\n",
       "      <td>4.670</td>\n",
       "      <td>4505.000</td>\n",
       "    </tr>\n",
       "    <tr>\n",
       "      <th>max</th>\n",
       "      <td>76.000</td>\n",
       "      <td>1204953.000</td>\n",
       "      <td>12541.000</td>\n",
       "      <td>9.400</td>\n",
       "      <td>99107.000</td>\n",
       "    </tr>\n",
       "  </tbody>\n",
       "</table>\n",
       "</div>"
      ],
      "text/plain": [
       "       district_id  population  average_salary  unemployment_rate  \\\n",
       "count       76.000      76.000          66.000             66.000   \n",
       "mean        38.500  133692.000        8984.379              3.836   \n",
       "std         22.083  137812.666         782.234              1.840   \n",
       "min          1.000   42821.000        8110.000              0.430   \n",
       "25%         19.750   84725.000        8441.750              2.455   \n",
       "50%         38.500  108391.000        8755.500              3.655   \n",
       "75%         57.250  138277.000        9298.250              4.670   \n",
       "max         76.000 1204953.000       12541.000              9.400   \n",
       "\n",
       "       num_committed_crimes  \n",
       "count                67.000  \n",
       "mean               5164.567  \n",
       "std               12069.629  \n",
       "min                 888.000  \n",
       "25%                2081.000  \n",
       "50%                2822.000  \n",
       "75%                4505.000  \n",
       "max               99107.000  "
      ]
     },
     "execution_count": 140,
     "metadata": {},
     "output_type": "execute_result"
    }
   ],
   "source": [
    "district.describe()"
   ]
  },
  {
   "cell_type": "code",
   "execution_count": 141,
   "metadata": {},
   "outputs": [
    {
     "data": {
      "text/html": [
       "<div>\n",
       "<style scoped>\n",
       "    .dataframe tbody tr th:only-of-type {\n",
       "        vertical-align: middle;\n",
       "    }\n",
       "\n",
       "    .dataframe tbody tr th {\n",
       "        vertical-align: top;\n",
       "    }\n",
       "\n",
       "    .dataframe thead th {\n",
       "        text-align: right;\n",
       "    }\n",
       "</style>\n",
       "<table border=\"1\" class=\"dataframe\">\n",
       "  <thead>\n",
       "    <tr style=\"text-align: right;\">\n",
       "      <th></th>\n",
       "      <th>district_id</th>\n",
       "      <th>district_name</th>\n",
       "      <th>region</th>\n",
       "      <th>population</th>\n",
       "      <th>average_salary</th>\n",
       "      <th>unemployment_rate</th>\n",
       "      <th>num_committed_crimes</th>\n",
       "    </tr>\n",
       "  </thead>\n",
       "  <tbody>\n",
       "    <tr>\n",
       "      <th>0</th>\n",
       "      <td>1</td>\n",
       "      <td>Hl.m. Praha</td>\n",
       "      <td>Prague</td>\n",
       "      <td>1204953</td>\n",
       "      <td>12541.000</td>\n",
       "      <td>0.430</td>\n",
       "      <td>99107.000</td>\n",
       "    </tr>\n",
       "    <tr>\n",
       "      <th>1</th>\n",
       "      <td>2</td>\n",
       "      <td>Benesov</td>\n",
       "      <td>central Bohemia</td>\n",
       "      <td>88884</td>\n",
       "      <td>NaN</td>\n",
       "      <td>NaN</td>\n",
       "      <td>2674.000</td>\n",
       "    </tr>\n",
       "    <tr>\n",
       "      <th>2</th>\n",
       "      <td>3</td>\n",
       "      <td>Beroun</td>\n",
       "      <td>central Bohemia</td>\n",
       "      <td>75232</td>\n",
       "      <td>8980.000</td>\n",
       "      <td>2.210</td>\n",
       "      <td>2813.000</td>\n",
       "    </tr>\n",
       "    <tr>\n",
       "      <th>3</th>\n",
       "      <td>4</td>\n",
       "      <td>Kladno</td>\n",
       "      <td>central Bohemia</td>\n",
       "      <td>149893</td>\n",
       "      <td>9753.000</td>\n",
       "      <td>5.050</td>\n",
       "      <td>NaN</td>\n",
       "    </tr>\n",
       "    <tr>\n",
       "      <th>4</th>\n",
       "      <td>5</td>\n",
       "      <td>Kolin</td>\n",
       "      <td>central Bohemia</td>\n",
       "      <td>95616</td>\n",
       "      <td>9307.000</td>\n",
       "      <td>4.430</td>\n",
       "      <td>NaN</td>\n",
       "    </tr>\n",
       "  </tbody>\n",
       "</table>\n",
       "</div>"
      ],
      "text/plain": [
       "   district_id district_name           region  population  average_salary  \\\n",
       "0            1   Hl.m. Praha           Prague     1204953       12541.000   \n",
       "1            2       Benesov  central Bohemia       88884             NaN   \n",
       "2            3        Beroun  central Bohemia       75232        8980.000   \n",
       "3            4        Kladno  central Bohemia      149893        9753.000   \n",
       "4            5         Kolin  central Bohemia       95616        9307.000   \n",
       "\n",
       "   unemployment_rate  num_committed_crimes  \n",
       "0              0.430             99107.000  \n",
       "1                NaN              2674.000  \n",
       "2              2.210              2813.000  \n",
       "3              5.050                   NaN  \n",
       "4              4.430                   NaN  "
      ]
     },
     "execution_count": 141,
     "metadata": {},
     "output_type": "execute_result"
    }
   ],
   "source": [
    "district.head()"
   ]
  },
  {
   "cell_type": "code",
   "execution_count": 142,
   "metadata": {},
   "outputs": [
    {
     "data": {
      "text/html": [
       "<div>\n",
       "<style scoped>\n",
       "    .dataframe tbody tr th:only-of-type {\n",
       "        vertical-align: middle;\n",
       "    }\n",
       "\n",
       "    .dataframe tbody tr th {\n",
       "        vertical-align: top;\n",
       "    }\n",
       "\n",
       "    .dataframe thead th {\n",
       "        text-align: right;\n",
       "    }\n",
       "</style>\n",
       "<table border=\"1\" class=\"dataframe\">\n",
       "  <thead>\n",
       "    <tr style=\"text-align: right;\">\n",
       "      <th></th>\n",
       "      <th>trans_id</th>\n",
       "      <th>account_id</th>\n",
       "      <th>amount</th>\n",
       "      <th>balance</th>\n",
       "      <th>partner_account</th>\n",
       "    </tr>\n",
       "  </thead>\n",
       "  <tbody>\n",
       "    <tr>\n",
       "      <th>count</th>\n",
       "      <td>1056320.000</td>\n",
       "      <td>1056320.000</td>\n",
       "      <td>1056320.000</td>\n",
       "      <td>1056320.000</td>\n",
       "      <td>295389.000</td>\n",
       "    </tr>\n",
       "    <tr>\n",
       "      <th>mean</th>\n",
       "      <td>1335310.704</td>\n",
       "      <td>2936.867</td>\n",
       "      <td>5924.146</td>\n",
       "      <td>38518.331</td>\n",
       "      <td>45670919.375</td>\n",
       "    </tr>\n",
       "    <tr>\n",
       "      <th>std</th>\n",
       "      <td>1227486.508</td>\n",
       "      <td>2477.345</td>\n",
       "      <td>9522.735</td>\n",
       "      <td>22117.868</td>\n",
       "      <td>30663396.851</td>\n",
       "    </tr>\n",
       "    <tr>\n",
       "      <th>min</th>\n",
       "      <td>1.000</td>\n",
       "      <td>1.000</td>\n",
       "      <td>0.000</td>\n",
       "      <td>-41125.700</td>\n",
       "      <td>0.000</td>\n",
       "    </tr>\n",
       "    <tr>\n",
       "      <th>25%</th>\n",
       "      <td>430262.750</td>\n",
       "      <td>1204.000</td>\n",
       "      <td>135.900</td>\n",
       "      <td>22402.500</td>\n",
       "      <td>17828584.000</td>\n",
       "    </tr>\n",
       "    <tr>\n",
       "      <th>50%</th>\n",
       "      <td>858506.500</td>\n",
       "      <td>2434.000</td>\n",
       "      <td>2100.000</td>\n",
       "      <td>33143.400</td>\n",
       "      <td>45750951.000</td>\n",
       "    </tr>\n",
       "    <tr>\n",
       "      <th>75%</th>\n",
       "      <td>2060979.250</td>\n",
       "      <td>3660.000</td>\n",
       "      <td>6800.000</td>\n",
       "      <td>49603.625</td>\n",
       "      <td>72013407.000</td>\n",
       "    </tr>\n",
       "    <tr>\n",
       "      <th>max</th>\n",
       "      <td>3682987.000</td>\n",
       "      <td>11382.000</td>\n",
       "      <td>87400.000</td>\n",
       "      <td>209637.000</td>\n",
       "      <td>99994199.000</td>\n",
       "    </tr>\n",
       "  </tbody>\n",
       "</table>\n",
       "</div>"
      ],
      "text/plain": [
       "         trans_id  account_id      amount     balance  partner_account\n",
       "count 1056320.000 1056320.000 1056320.000 1056320.000       295389.000\n",
       "mean  1335310.704    2936.867    5924.146   38518.331     45670919.375\n",
       "std   1227486.508    2477.345    9522.735   22117.868     30663396.851\n",
       "min         1.000       1.000       0.000  -41125.700            0.000\n",
       "25%    430262.750    1204.000     135.900   22402.500     17828584.000\n",
       "50%    858506.500    2434.000    2100.000   33143.400     45750951.000\n",
       "75%   2060979.250    3660.000    6800.000   49603.625     72013407.000\n",
       "max   3682987.000   11382.000   87400.000  209637.000     99994199.000"
      ]
     },
     "execution_count": 142,
     "metadata": {},
     "output_type": "execute_result"
    }
   ],
   "source": [
    "trans.describe()"
   ]
  },
  {
   "cell_type": "code",
   "execution_count": 143,
   "metadata": {},
   "outputs": [
    {
     "data": {
      "text/html": [
       "<div>\n",
       "<style scoped>\n",
       "    .dataframe tbody tr th:only-of-type {\n",
       "        vertical-align: middle;\n",
       "    }\n",
       "\n",
       "    .dataframe tbody tr th {\n",
       "        vertical-align: top;\n",
       "    }\n",
       "\n",
       "    .dataframe thead th {\n",
       "        text-align: right;\n",
       "    }\n",
       "</style>\n",
       "<table border=\"1\" class=\"dataframe\">\n",
       "  <thead>\n",
       "    <tr style=\"text-align: right;\">\n",
       "      <th></th>\n",
       "      <th>trans_id</th>\n",
       "      <th>account_id</th>\n",
       "      <th>date</th>\n",
       "      <th>type</th>\n",
       "      <th>operation_type</th>\n",
       "      <th>amount</th>\n",
       "      <th>balance</th>\n",
       "      <th>description</th>\n",
       "      <th>partner_bank</th>\n",
       "      <th>partner_account</th>\n",
       "    </tr>\n",
       "  </thead>\n",
       "  <tbody>\n",
       "    <tr>\n",
       "      <th>0</th>\n",
       "      <td>695247</td>\n",
       "      <td>2378</td>\n",
       "      <td>1993-01-01</td>\n",
       "      <td>CREDIT</td>\n",
       "      <td>CREDIT IN CASH</td>\n",
       "      <td>700.000</td>\n",
       "      <td>700.000</td>\n",
       "      <td>NaN</td>\n",
       "      <td>NaN</td>\n",
       "      <td>NaN</td>\n",
       "    </tr>\n",
       "    <tr>\n",
       "      <th>1</th>\n",
       "      <td>171812</td>\n",
       "      <td>576</td>\n",
       "      <td>1993-01-01</td>\n",
       "      <td>CREDIT</td>\n",
       "      <td>CREDIT IN CASH</td>\n",
       "      <td>900.000</td>\n",
       "      <td>900.000</td>\n",
       "      <td>NaN</td>\n",
       "      <td>NaN</td>\n",
       "      <td>NaN</td>\n",
       "    </tr>\n",
       "    <tr>\n",
       "      <th>2</th>\n",
       "      <td>207264</td>\n",
       "      <td>704</td>\n",
       "      <td>1993-01-01</td>\n",
       "      <td>CREDIT</td>\n",
       "      <td>CREDIT IN CASH</td>\n",
       "      <td>1000.000</td>\n",
       "      <td>1000.000</td>\n",
       "      <td>NaN</td>\n",
       "      <td>NaN</td>\n",
       "      <td>NaN</td>\n",
       "    </tr>\n",
       "    <tr>\n",
       "      <th>3</th>\n",
       "      <td>1117247</td>\n",
       "      <td>3818</td>\n",
       "      <td>1993-01-01</td>\n",
       "      <td>CREDIT</td>\n",
       "      <td>CREDIT IN CASH</td>\n",
       "      <td>600.000</td>\n",
       "      <td>600.000</td>\n",
       "      <td>NaN</td>\n",
       "      <td>NaN</td>\n",
       "      <td>NaN</td>\n",
       "    </tr>\n",
       "    <tr>\n",
       "      <th>4</th>\n",
       "      <td>579373</td>\n",
       "      <td>1972</td>\n",
       "      <td>1993-01-02</td>\n",
       "      <td>CREDIT</td>\n",
       "      <td>CREDIT IN CASH</td>\n",
       "      <td>400.000</td>\n",
       "      <td>400.000</td>\n",
       "      <td>NaN</td>\n",
       "      <td>NaN</td>\n",
       "      <td>NaN</td>\n",
       "    </tr>\n",
       "  </tbody>\n",
       "</table>\n",
       "</div>"
      ],
      "text/plain": [
       "   trans_id  account_id        date    type  operation_type   amount  balance  \\\n",
       "0    695247        2378  1993-01-01  CREDIT  CREDIT IN CASH  700.000  700.000   \n",
       "1    171812         576  1993-01-01  CREDIT  CREDIT IN CASH  900.000  900.000   \n",
       "2    207264         704  1993-01-01  CREDIT  CREDIT IN CASH 1000.000 1000.000   \n",
       "3   1117247        3818  1993-01-01  CREDIT  CREDIT IN CASH  600.000  600.000   \n",
       "4    579373        1972  1993-01-02  CREDIT  CREDIT IN CASH  400.000  400.000   \n",
       "\n",
       "  description partner_bank  partner_account  \n",
       "0         NaN          NaN              NaN  \n",
       "1         NaN          NaN              NaN  \n",
       "2         NaN          NaN              NaN  \n",
       "3         NaN          NaN              NaN  \n",
       "4         NaN          NaN              NaN  "
      ]
     },
     "execution_count": 143,
     "metadata": {},
     "output_type": "execute_result"
    }
   ],
   "source": [
    "trans.head()"
   ]
  },
  {
   "cell_type": "markdown",
   "metadata": {},
   "source": [
    "### 4. Sprawdź unikalne wartości i ich liczbę w każdej kolumnie dla trzech ramek DataFrames"
   ]
  },
  {
   "cell_type": "markdown",
   "metadata": {},
   "source": [
    "Metoda `.nunique()` zwraca liczbę unikalnych wartości w każdej kolumnie."
   ]
  },
  {
   "cell_type": "code",
   "execution_count": 144,
   "metadata": {},
   "outputs": [
    {
     "data": {
      "text/plain": [
       "account_id           4500\n",
       "district_id            77\n",
       "frequency               3\n",
       "account_open_date    1535\n",
       "client_id            4500\n",
       "dtype: int64"
      ]
     },
     "execution_count": 144,
     "metadata": {},
     "output_type": "execute_result"
    }
   ],
   "source": [
    "account.nunique()"
   ]
  },
  {
   "cell_type": "code",
   "execution_count": 145,
   "metadata": {},
   "outputs": [
    {
     "data": {
      "text/plain": [
       "district_id             76\n",
       "district_name           76\n",
       "region                   8\n",
       "population              76\n",
       "average_salary          65\n",
       "unemployment_rate       63\n",
       "num_committed_crimes    66\n",
       "dtype: int64"
      ]
     },
     "execution_count": 145,
     "metadata": {},
     "output_type": "execute_result"
    }
   ],
   "source": [
    "district.nunique()"
   ]
  },
  {
   "cell_type": "code",
   "execution_count": 146,
   "metadata": {},
   "outputs": [
    {
     "data": {
      "text/plain": [
       "trans_id           1056320\n",
       "account_id            4500\n",
       "date                  2191\n",
       "type                     2\n",
       "operation_type           5\n",
       "amount               40400\n",
       "balance             542739\n",
       "description              8\n",
       "partner_bank            13\n",
       "partner_account       7665\n",
       "dtype: int64"
      ]
     },
     "execution_count": 146,
     "metadata": {},
     "output_type": "execute_result"
    }
   ],
   "source": [
    "trans.nunique()"
   ]
  },
  {
   "cell_type": "markdown",
   "metadata": {},
   "source": [
    "### 5. Sprawdź, czy nie ma duplikatów w trzech ramkach DataFrame"
   ]
  },
  {
   "cell_type": "code",
   "execution_count": 147,
   "metadata": {},
   "outputs": [
    {
     "data": {
      "text/plain": [
       "0"
      ]
     },
     "execution_count": 147,
     "metadata": {},
     "output_type": "execute_result"
    }
   ],
   "source": [
    "account.duplicated().sum()"
   ]
  },
  {
   "cell_type": "code",
   "execution_count": 148,
   "metadata": {},
   "outputs": [
    {
     "data": {
      "text/plain": [
       "0"
      ]
     },
     "execution_count": 148,
     "metadata": {},
     "output_type": "execute_result"
    }
   ],
   "source": [
    "district.duplicated().sum()"
   ]
  },
  {
   "cell_type": "code",
   "execution_count": 149,
   "metadata": {},
   "outputs": [
    {
     "data": {
      "text/plain": [
       "0"
      ]
     },
     "execution_count": 149,
     "metadata": {},
     "output_type": "execute_result"
    }
   ],
   "source": [
    "trans.duplicated().sum()"
   ]
  },
  {
   "cell_type": "markdown",
   "metadata": {},
   "source": [
    "### 6. Konwertuj kolumnę „account_open_date” w „account” i kolumnę „date” w „trans” na dtypes datetime"
   ]
  },
  {
   "cell_type": "code",
   "execution_count": 150,
   "metadata": {},
   "outputs": [],
   "source": [
    "account['account_open_date'] = pd.to_datetime(account['account_open_date'], errors='coerce') #jeśli 'coerse' nieprawidłowe parsowania zostaną zamienione na NaT (Not-a-Time)\n",
    "trans['date'] = pd.to_datetime(trans['date'], errors='coerce')"
   ]
  },
  {
   "cell_type": "code",
   "execution_count": 151,
   "metadata": {},
   "outputs": [
    {
     "name": "stdout",
     "output_type": "stream",
     "text": [
      "<class 'pandas.core.frame.DataFrame'>\n",
      "RangeIndex: 4500 entries, 0 to 4499\n",
      "Data columns (total 5 columns):\n",
      " #   Column             Non-Null Count  Dtype         \n",
      "---  ------             --------------  -----         \n",
      " 0   account_id         4500 non-null   int64         \n",
      " 1   district_id        4500 non-null   int64         \n",
      " 2   frequency          4500 non-null   object        \n",
      " 3   account_open_date  4500 non-null   datetime64[ns]\n",
      " 4   client_id          4500 non-null   int64         \n",
      "dtypes: datetime64[ns](1), int64(3), object(1)\n",
      "memory usage: 175.9+ KB\n",
      "<class 'pandas.core.frame.DataFrame'>\n",
      "RangeIndex: 1056320 entries, 0 to 1056319\n",
      "Data columns (total 10 columns):\n",
      " #   Column           Non-Null Count    Dtype         \n",
      "---  ------           --------------    -----         \n",
      " 0   trans_id         1056320 non-null  int64         \n",
      " 1   account_id       1056320 non-null  int64         \n",
      " 2   date             1056320 non-null  datetime64[ns]\n",
      " 3   type             1056320 non-null  object        \n",
      " 4   operation_type   873206 non-null   object        \n",
      " 5   amount           1056320 non-null  float64       \n",
      " 6   balance          1056320 non-null  float64       \n",
      " 7   description      574439 non-null   object        \n",
      " 8   partner_bank     273508 non-null   object        \n",
      " 9   partner_account  295389 non-null   float64       \n",
      "dtypes: datetime64[ns](1), float64(3), int64(2), object(4)\n",
      "memory usage: 80.6+ MB\n"
     ]
    },
    {
     "data": {
      "text/plain": [
       "(None, None)"
      ]
     },
     "execution_count": 151,
     "metadata": {},
     "output_type": "execute_result"
    }
   ],
   "source": [
    "account.info(), trans.info()"
   ]
  },
  {
   "cell_type": "markdown",
   "metadata": {},
   "source": [
    "### 7. Zamień kolumny `region` i `district_name` w `district` na tekst, który rozpoczyna się od wielkich liter. "
   ]
  },
  {
   "cell_type": "code",
   "execution_count": 152,
   "metadata": {},
   "outputs": [],
   "source": [
    "district['region'] = district['region'].str.title()\n",
    "district['district_name'] = district['district_name'].str.title()"
   ]
  },
  {
   "cell_type": "code",
   "execution_count": 153,
   "metadata": {},
   "outputs": [
    {
     "data": {
      "text/html": [
       "<div>\n",
       "<style scoped>\n",
       "    .dataframe tbody tr th:only-of-type {\n",
       "        vertical-align: middle;\n",
       "    }\n",
       "\n",
       "    .dataframe tbody tr th {\n",
       "        vertical-align: top;\n",
       "    }\n",
       "\n",
       "    .dataframe thead th {\n",
       "        text-align: right;\n",
       "    }\n",
       "</style>\n",
       "<table border=\"1\" class=\"dataframe\">\n",
       "  <thead>\n",
       "    <tr style=\"text-align: right;\">\n",
       "      <th></th>\n",
       "      <th>region</th>\n",
       "      <th>district_name</th>\n",
       "    </tr>\n",
       "  </thead>\n",
       "  <tbody>\n",
       "    <tr>\n",
       "      <th>0</th>\n",
       "      <td>Prague</td>\n",
       "      <td>Hl.M. Praha</td>\n",
       "    </tr>\n",
       "    <tr>\n",
       "      <th>1</th>\n",
       "      <td>Central Bohemia</td>\n",
       "      <td>Benesov</td>\n",
       "    </tr>\n",
       "    <tr>\n",
       "      <th>2</th>\n",
       "      <td>Central Bohemia</td>\n",
       "      <td>Beroun</td>\n",
       "    </tr>\n",
       "    <tr>\n",
       "      <th>3</th>\n",
       "      <td>Central Bohemia</td>\n",
       "      <td>Kladno</td>\n",
       "    </tr>\n",
       "    <tr>\n",
       "      <th>4</th>\n",
       "      <td>Central Bohemia</td>\n",
       "      <td>Kolin</td>\n",
       "    </tr>\n",
       "  </tbody>\n",
       "</table>\n",
       "</div>"
      ],
      "text/plain": [
       "            region district_name\n",
       "0           Prague   Hl.M. Praha\n",
       "1  Central Bohemia       Benesov\n",
       "2  Central Bohemia        Beroun\n",
       "3  Central Bohemia        Kladno\n",
       "4  Central Bohemia         Kolin"
      ]
     },
     "execution_count": 153,
     "metadata": {},
     "output_type": "execute_result"
    }
   ],
   "source": [
    "district[['region', 'district_name']].head()"
   ]
  },
  {
   "cell_type": "markdown",
   "metadata": {},
   "source": [
    "### 8. Sprawdź brakujące dane według kolumn w `account` przy użyciu metody `isna`"
   ]
  },
  {
   "cell_type": "code",
   "execution_count": 154,
   "metadata": {},
   "outputs": [
    {
     "data": {
      "text/plain": [
       "account_id           0\n",
       "district_id          0\n",
       "frequency            0\n",
       "account_open_date    0\n",
       "client_id            0\n",
       "dtype: int64"
      ]
     },
     "execution_count": 154,
     "metadata": {},
     "output_type": "execute_result"
    }
   ],
   "source": [
    "account.isna().sum()"
   ]
  },
  {
   "cell_type": "markdown",
   "metadata": {},
   "source": [
    "### 9. Sprawdź brakujące dane według kolumn w `district` przy użyciu metody `isna`\n",
    "\n"
   ]
  },
  {
   "cell_type": "code",
   "execution_count": 155,
   "metadata": {},
   "outputs": [
    {
     "data": {
      "text/plain": [
       "district_id              0\n",
       "district_name            0\n",
       "region                   0\n",
       "population               0\n",
       "average_salary          10\n",
       "unemployment_rate       10\n",
       "num_committed_crimes     9\n",
       "dtype: int64"
      ]
     },
     "execution_count": 155,
     "metadata": {},
     "output_type": "execute_result"
    }
   ],
   "source": [
    "district.isna().sum()"
   ]
  },
  {
   "cell_type": "markdown",
   "metadata": {},
   "source": [
    "„district” ma brakujące obserwacje. Użyjmy na nich imputacji ."
   ]
  },
  {
   "cell_type": "markdown",
   "metadata": {},
   "source": [
    "#### Użyj `IterativeImputer` w `sklearn`, aby przypisywać dane na podstawie kolumn `population`, `average_salary`, `unemployment_rate`, `num_committed_crimes`\n",
    "\n",
    "**Poniższy kod należy wyłącznie wywołać.**\n"
   ]
  },
  {
   "cell_type": "markdown",
   "metadata": {},
   "source": [
    "##### Import libraries"
   ]
  },
  {
   "cell_type": "code",
   "execution_count": 156,
   "metadata": {},
   "outputs": [],
   "source": [
    "from sklearn.experimental import enable_iterative_imputer\n",
    "from sklearn.impute import IterativeImputer"
   ]
  },
  {
   "cell_type": "markdown",
   "metadata": {},
   "source": [
    "##### Zbuduj listę kolumn, które będą używane do imputacji, czyli 'population', 'average_salary', 'unemployment_rate', 'num_committed_crimes'\n",
    "To są kolumny, które mogą być ze sobą powiązane"
   ]
  },
  {
   "cell_type": "code",
   "execution_count": 157,
   "metadata": {},
   "outputs": [],
   "source": [
    "cols_to_impute = ['population', 'average_salary', 'unemployment_rate', 'num_committed_crimes']"
   ]
  },
  {
   "cell_type": "markdown",
   "metadata": {},
   "source": [
    "##### Utwórz obiekt `IterativeImputer` i ustaw jego parametry `min_value` i `max_value` na minimum i maksimum odpowiednich kolumn"
   ]
  },
  {
   "cell_type": "code",
   "execution_count": 158,
   "metadata": {},
   "outputs": [],
   "source": [
    "iter_imp = IterativeImputer(min_value=district[cols_to_impute].min(), max_value=district[cols_to_impute].max())"
   ]
  },
  {
   "cell_type": "markdown",
   "metadata": {},
   "source": [
    "##### Zastosuj imputer, aby dopasować i przekształcić kolumny do przypisanej tablicy NumPy"
   ]
  },
  {
   "cell_type": "code",
   "execution_count": 159,
   "metadata": {},
   "outputs": [],
   "source": [
    "imputed_cols = iter_imp.fit_transform(district[cols_to_impute])"
   ]
  },
  {
   "cell_type": "markdown",
   "metadata": {},
   "source": [
    "##### Przypisz przypisaną tablicę z powrotem do oryginalnych kolumn DataFrame"
   ]
  },
  {
   "cell_type": "code",
   "execution_count": 160,
   "metadata": {},
   "outputs": [],
   "source": [
    "district[cols_to_impute] = imputed_cols"
   ]
  },
  {
   "cell_type": "markdown",
   "metadata": {},
   "source": [
    "##### Dokładnie sprawdź, czy kolumny są przypisane\n",
    "\n"
   ]
  },
  {
   "cell_type": "code",
   "execution_count": 161,
   "metadata": {},
   "outputs": [
    {
     "data": {
      "text/plain": [
       "district_id             0\n",
       "district_name           0\n",
       "region                  0\n",
       "population              0\n",
       "average_salary          0\n",
       "unemployment_rate       0\n",
       "num_committed_crimes    0\n",
       "dtype: int64"
      ]
     },
     "execution_count": 161,
     "metadata": {},
     "output_type": "execute_result"
    }
   ],
   "source": [
    "district.isna().sum()"
   ]
  },
  {
   "cell_type": "markdown",
   "metadata": {},
   "source": [
    "### 10. Sprawdź brakujące dane według kolumn w `trans` używając metody `isna`"
   ]
  },
  {
   "cell_type": "code",
   "execution_count": 162,
   "metadata": {},
   "outputs": [
    {
     "data": {
      "text/plain": [
       "trans_id                0\n",
       "account_id              0\n",
       "date                    0\n",
       "type                    0\n",
       "operation_type     183114\n",
       "amount                  0\n",
       "balance                 0\n",
       "description        481881\n",
       "partner_bank       782812\n",
       "partner_account    760931\n",
       "dtype: int64"
      ]
     },
     "execution_count": 162,
     "metadata": {},
     "output_type": "execute_result"
    }
   ],
   "source": [
    "trans.isna().sum()"
   ]
  },
  {
   "cell_type": "markdown",
   "metadata": {},
   "source": [
    "#### Podziel kolumny na kolumny numeryczne i kolumny z kategoriami, a następnie użyj metody `fillna`, aby wypełnić kolumny numeryczne wartością -999, wypełnij kolumny z kategoriami za pomocą 'UNKNOWN'"
   ]
  },
  {
   "cell_type": "code",
   "execution_count": 163,
   "metadata": {},
   "outputs": [
    {
     "name": "stdout",
     "output_type": "stream",
     "text": [
      "<class 'pandas.core.frame.DataFrame'>\n",
      "RangeIndex: 1056320 entries, 0 to 1056319\n",
      "Data columns (total 10 columns):\n",
      " #   Column           Non-Null Count    Dtype         \n",
      "---  ------           --------------    -----         \n",
      " 0   trans_id         1056320 non-null  int64         \n",
      " 1   account_id       1056320 non-null  int64         \n",
      " 2   date             1056320 non-null  datetime64[ns]\n",
      " 3   type             1056320 non-null  object        \n",
      " 4   operation_type   873206 non-null   object        \n",
      " 5   amount           1056320 non-null  float64       \n",
      " 6   balance          1056320 non-null  float64       \n",
      " 7   description      574439 non-null   object        \n",
      " 8   partner_bank     273508 non-null   object        \n",
      " 9   partner_account  295389 non-null   float64       \n",
      "dtypes: datetime64[ns](1), float64(3), int64(2), object(4)\n",
      "memory usage: 80.6+ MB\n"
     ]
    }
   ],
   "source": [
    "trans.info()"
   ]
  },
  {
   "cell_type": "code",
   "execution_count": 164,
   "metadata": {},
   "outputs": [],
   "source": [
    "#wypełnianie brakujących wartości w kolumnie numerycznej\n",
    "trans['partner_account'] = trans['partner_account'].fillna(-999)\n",
    "\n",
    "#wypełnianie brakujących wartości w kolumnach kategorycznych\n",
    "trans['operation_type'] = trans['operation_type'].fillna('UNKNOWN')\n",
    "trans['description'] = trans['description'].fillna('UNKNOWN')\n",
    "trans['partner_bank'] = trans['partner_bank'].fillna('UNKNOWN')"
   ]
  },
  {
   "cell_type": "code",
   "execution_count": 165,
   "metadata": {},
   "outputs": [
    {
     "data": {
      "text/plain": [
       "trans_id           0\n",
       "account_id         0\n",
       "date               0\n",
       "type               0\n",
       "operation_type     0\n",
       "amount             0\n",
       "balance            0\n",
       "description        0\n",
       "partner_bank       0\n",
       "partner_account    0\n",
       "dtype: int64"
      ]
     },
     "execution_count": 165,
     "metadata": {},
     "output_type": "execute_result"
    }
   ],
   "source": [
    "trans.isna().sum()"
   ]
  },
  {
   "cell_type": "markdown",
   "metadata": {},
   "source": [
    "### 11. Sprawdź wartości odstające w `district` za pomocą metody `describe`, a następnie spójrz na histogramy podejrzanych kolumn"
   ]
  },
  {
   "cell_type": "code",
   "execution_count": 166,
   "metadata": {},
   "outputs": [
    {
     "data": {
      "text/html": [
       "<div>\n",
       "<style scoped>\n",
       "    .dataframe tbody tr th:only-of-type {\n",
       "        vertical-align: middle;\n",
       "    }\n",
       "\n",
       "    .dataframe tbody tr th {\n",
       "        vertical-align: top;\n",
       "    }\n",
       "\n",
       "    .dataframe thead th {\n",
       "        text-align: right;\n",
       "    }\n",
       "</style>\n",
       "<table border=\"1\" class=\"dataframe\">\n",
       "  <thead>\n",
       "    <tr style=\"text-align: right;\">\n",
       "      <th></th>\n",
       "      <th>district_id</th>\n",
       "      <th>population</th>\n",
       "      <th>average_salary</th>\n",
       "      <th>unemployment_rate</th>\n",
       "      <th>num_committed_crimes</th>\n",
       "    </tr>\n",
       "  </thead>\n",
       "  <tbody>\n",
       "    <tr>\n",
       "      <th>count</th>\n",
       "      <td>76.000</td>\n",
       "      <td>76.000</td>\n",
       "      <td>76.000</td>\n",
       "      <td>76.000</td>\n",
       "      <td>76.000</td>\n",
       "    </tr>\n",
       "    <tr>\n",
       "      <th>mean</th>\n",
       "      <td>38.500</td>\n",
       "      <td>133692.000</td>\n",
       "      <td>8983.707</td>\n",
       "      <td>3.864</td>\n",
       "      <td>5054.492</td>\n",
       "    </tr>\n",
       "    <tr>\n",
       "      <th>std</th>\n",
       "      <td>22.083</td>\n",
       "      <td>137812.666</td>\n",
       "      <td>740.959</td>\n",
       "      <td>1.722</td>\n",
       "      <td>11392.280</td>\n",
       "    </tr>\n",
       "    <tr>\n",
       "      <th>min</th>\n",
       "      <td>1.000</td>\n",
       "      <td>42821.000</td>\n",
       "      <td>8110.000</td>\n",
       "      <td>0.430</td>\n",
       "      <td>888.000</td>\n",
       "    </tr>\n",
       "    <tr>\n",
       "      <th>25%</th>\n",
       "      <td>19.750</td>\n",
       "      <td>84725.000</td>\n",
       "      <td>8533.750</td>\n",
       "      <td>2.650</td>\n",
       "      <td>1918.455</td>\n",
       "    </tr>\n",
       "    <tr>\n",
       "      <th>50%</th>\n",
       "      <td>38.500</td>\n",
       "      <td>108391.000</td>\n",
       "      <td>8792.985</td>\n",
       "      <td>3.762</td>\n",
       "      <td>2864.000</td>\n",
       "    </tr>\n",
       "    <tr>\n",
       "      <th>75%</th>\n",
       "      <td>57.250</td>\n",
       "      <td>138277.000</td>\n",
       "      <td>9280.750</td>\n",
       "      <td>4.570</td>\n",
       "      <td>4562.413</td>\n",
       "    </tr>\n",
       "    <tr>\n",
       "      <th>max</th>\n",
       "      <td>76.000</td>\n",
       "      <td>1204953.000</td>\n",
       "      <td>12541.000</td>\n",
       "      <td>9.400</td>\n",
       "      <td>99107.000</td>\n",
       "    </tr>\n",
       "  </tbody>\n",
       "</table>\n",
       "</div>"
      ],
      "text/plain": [
       "       district_id  population  average_salary  unemployment_rate  \\\n",
       "count       76.000      76.000          76.000             76.000   \n",
       "mean        38.500  133692.000        8983.707              3.864   \n",
       "std         22.083  137812.666         740.959              1.722   \n",
       "min          1.000   42821.000        8110.000              0.430   \n",
       "25%         19.750   84725.000        8533.750              2.650   \n",
       "50%         38.500  108391.000        8792.985              3.762   \n",
       "75%         57.250  138277.000        9280.750              4.570   \n",
       "max         76.000 1204953.000       12541.000              9.400   \n",
       "\n",
       "       num_committed_crimes  \n",
       "count                76.000  \n",
       "mean               5054.492  \n",
       "std               11392.280  \n",
       "min                 888.000  \n",
       "25%                1918.455  \n",
       "50%                2864.000  \n",
       "75%                4562.413  \n",
       "max               99107.000  "
      ]
     },
     "execution_count": 166,
     "metadata": {},
     "output_type": "execute_result"
    }
   ],
   "source": [
    "district.describe()"
   ]
  },
  {
   "cell_type": "markdown",
   "metadata": {},
   "source": [
    "### \"population\"  \n",
    "    \n",
    "Maksymalna wartość populacji wynosi `1 204 953`, co jest znacznie wyższe niż `75% (138 277)`. To sugeruje potencjalną `wartość odstającą`."
   ]
  },
  {
   "cell_type": "markdown",
   "metadata": {},
   "source": [
    "### \"unemployment_rate\"\n",
    "    \n",
    "Maksymalna wartość wynosi `9.4`, co jest znacząco wyższe niż `średnia` i `75%`."
   ]
  },
  {
   "cell_type": "markdown",
   "metadata": {},
   "source": [
    "### \"num_committed_crimes\"\n",
    "    \n",
    "Znaczący skok między `75% (4 562.413)` a `maksymalną wartością (99 107)` wskazuje na ekstremalnie dużą `wartość odstającą` w tej kolumnie."
   ]
  },
  {
   "cell_type": "code",
   "execution_count": 167,
   "metadata": {},
   "outputs": [
    {
     "data": {
      "image/png": "[encoded data removed]",
      "text/plain": [
       "<Figure size 1200x400 with 3 Axes>"
      ]
     },
     "metadata": {},
     "output_type": "display_data"
    }
   ],
   "source": [
    "plt.style.use('ggplot')\n",
    "plt.figure(figsize=(12, 4))\n",
    "\n",
    "# Histogram dla 'population'\n",
    "plt.subplot(1, 3, 1)\n",
    "plt.hist(district['population'], bins=50, color='blue')\n",
    "plt.title('Histogram dla Population')\n",
    "plt.xlabel('Population')\n",
    "plt.ylabel('Frequency')\n",
    "\n",
    "# Histogram dla 'unemployment_rate'\n",
    "plt.subplot(1, 3, 2)\n",
    "plt.hist(district['unemployment_rate'], bins=50, color='red')\n",
    "plt.title('Histogram dla Unemployment Rate')\n",
    "plt.xlabel('Unemployment Rate')\n",
    "plt.ylabel('Frequency')\n",
    "\n",
    "# Histogram dla 'num_committed_crimes'\n",
    "plt.subplot(1, 3, 3)\n",
    "plt.hist(district['num_committed_crimes'], bins=50, color='green')\n",
    "plt.title('Histogram dla Num Committed Crimes')\n",
    "plt.xlabel('Num Committed Crimes')\n",
    "plt.ylabel('Frequency')\n",
    "\n",
    "plt.tight_layout()\n",
    "plt.show()"
   ]
  },
  {
   "cell_type": "markdown",
   "metadata": {},
   "source": [
    "#### Za pomoca wykresow przejrzyj outliery. Opisz krótko rozkład danych. "
   ]
  },
  {
   "cell_type": "markdown",
   "metadata": {},
   "source": [
    "### Histogram dla Population\n",
    "Histogram pokazuje wyraźną koncentrację wartości w niższym zakresie, z większością dystryktów mających populację `poniżej 200 000`. Istnieje kilka wartości w zakresie od 200 000 do 400 000 i bardzo wyraźny `outlier powyżej 1 000 000`.\n",
    "\n",
    "*Wnioski: Wartość odstająca znacznie przewyższa inne i może być wynikiem błędu lub może reprezentować bardzo duży dystrykt. Taka wartość odstająca może wpływać na analizę statystyczną i być przyczyną błędnych wniosków.*\n",
    "\n",
    "### Histogram dla Unemployment Rate\n",
    "Rozkład bezrobocia jest bardziej zróżnicowany. Istnieje kilka głównych grup wartości, głównie skoncentrowanych między `2 a 6 procentami`, z kilkoma wartościami przekraczającymi `8 procent`.\n",
    "\n",
    "*Wnioski: Wyższe wartości bezrobocia mogą wskazywać na regiony z problemami ekonomicznymi lub błędy w danych. Konieczne może być zbadanie przyczyn tak wysokiego bezrobocia w tych dystryktach. Użycie mediany zamiast średniej lub przycinanie skrajnych wartości może być skuteczne, abyzredukować wpływ wartości skrajnych na średnią stawkę bezrobocia.*\n",
    "\n",
    "### Histogram dla Num Committed Crimes\n",
    "Większość dystryktów ma stosunkowo niską liczbę przestępstw, poniżej `20 000`. Istnieje jednak kilka wartości odstających, z jednym szczególnie ekstremalnym przypadkiem, gdzie liczba przestępstw przekracza `90 000`.\n",
    "\n",
    "*Wnioski: Takie ekstremalne wartości mogą wynikać z błędów w danych lub mogą reprezentować specyficzne warunki w tych dystryktach, takie jak duże miasta lub regiony z wysoką przestępczością. Takie wartości odstające mogą znacząco wpłynąć na statystyki krajowe i wymagają dokładnej analizy.*\n",
    "\n",
    "### Dla każdej z kolumn z wartościami odstającymi warto rozważyć:\n",
    "\n",
    "- Zbadanie przyczyn na ile to jest możliwe.\n",
    "- W przypadku stwierdzenia błędów w danych, wartości odstające mogą zostać skorygowane lub usunięte, aby nie wpływały negatywnie na analizę.\n",
    "- Użycie technik statystycznych, które są odporne na wartości odstające, lub transformacja danych może być rozważana, aby umożliwić bardziej wiarygodne wnioski (Transformacja logarytmiczna, Trimming, Winsoryzacja itp)."
   ]
  },
  {
   "cell_type": "markdown",
   "metadata": {},
   "source": [
    "### 12. Sprawdź wartości odstające w `trans` za pomocą metody `describe`, a następnie spójrz na histogramy podejrzanych kolumn"
   ]
  },
  {
   "cell_type": "code",
   "execution_count": 168,
   "metadata": {},
   "outputs": [
    {
     "data": {
      "text/html": [
       "<div>\n",
       "<style scoped>\n",
       "    .dataframe tbody tr th:only-of-type {\n",
       "        vertical-align: middle;\n",
       "    }\n",
       "\n",
       "    .dataframe tbody tr th {\n",
       "        vertical-align: top;\n",
       "    }\n",
       "\n",
       "    .dataframe thead th {\n",
       "        text-align: right;\n",
       "    }\n",
       "</style>\n",
       "<table border=\"1\" class=\"dataframe\">\n",
       "  <thead>\n",
       "    <tr style=\"text-align: right;\">\n",
       "      <th></th>\n",
       "      <th>trans_id</th>\n",
       "      <th>account_id</th>\n",
       "      <th>date</th>\n",
       "      <th>amount</th>\n",
       "      <th>balance</th>\n",
       "      <th>partner_account</th>\n",
       "    </tr>\n",
       "  </thead>\n",
       "  <tbody>\n",
       "    <tr>\n",
       "      <th>count</th>\n",
       "      <td>1056320.000</td>\n",
       "      <td>1056320.000</td>\n",
       "      <td>1056320</td>\n",
       "      <td>1056320.000</td>\n",
       "      <td>1056320.000</td>\n",
       "      <td>1056320.000</td>\n",
       "    </tr>\n",
       "    <tr>\n",
       "      <th>mean</th>\n",
       "      <td>1335310.704</td>\n",
       "      <td>2936.867</td>\n",
       "      <td>1997-01-04 07:29:27.037261952</td>\n",
       "      <td>5924.146</td>\n",
       "      <td>38518.331</td>\n",
       "      <td>12770682.211</td>\n",
       "    </tr>\n",
       "    <tr>\n",
       "      <th>min</th>\n",
       "      <td>1.000</td>\n",
       "      <td>1.000</td>\n",
       "      <td>1993-01-01 00:00:00</td>\n",
       "      <td>0.000</td>\n",
       "      <td>-41125.700</td>\n",
       "      <td>-999.000</td>\n",
       "    </tr>\n",
       "    <tr>\n",
       "      <th>25%</th>\n",
       "      <td>430262.750</td>\n",
       "      <td>1204.000</td>\n",
       "      <td>1996-01-16 00:00:00</td>\n",
       "      <td>135.900</td>\n",
       "      <td>22402.500</td>\n",
       "      <td>-999.000</td>\n",
       "    </tr>\n",
       "    <tr>\n",
       "      <th>50%</th>\n",
       "      <td>858506.500</td>\n",
       "      <td>2434.000</td>\n",
       "      <td>1997-04-10 00:00:00</td>\n",
       "      <td>2100.000</td>\n",
       "      <td>33143.400</td>\n",
       "      <td>-999.000</td>\n",
       "    </tr>\n",
       "    <tr>\n",
       "      <th>75%</th>\n",
       "      <td>2060979.250</td>\n",
       "      <td>3660.000</td>\n",
       "      <td>1998-02-28 00:00:00</td>\n",
       "      <td>6800.000</td>\n",
       "      <td>49603.625</td>\n",
       "      <td>3410566.000</td>\n",
       "    </tr>\n",
       "    <tr>\n",
       "      <th>max</th>\n",
       "      <td>3682987.000</td>\n",
       "      <td>11382.000</td>\n",
       "      <td>1998-12-31 00:00:00</td>\n",
       "      <td>87400.000</td>\n",
       "      <td>209637.000</td>\n",
       "      <td>99994199.000</td>\n",
       "    </tr>\n",
       "    <tr>\n",
       "      <th>std</th>\n",
       "      <td>1227486.508</td>\n",
       "      <td>2477.345</td>\n",
       "      <td>NaN</td>\n",
       "      <td>9522.735</td>\n",
       "      <td>22117.868</td>\n",
       "      <td>26136576.178</td>\n",
       "    </tr>\n",
       "  </tbody>\n",
       "</table>\n",
       "</div>"
      ],
      "text/plain": [
       "         trans_id  account_id                           date      amount  \\\n",
       "count 1056320.000 1056320.000                        1056320 1056320.000   \n",
       "mean  1335310.704    2936.867  1997-01-04 07:29:27.037261952    5924.146   \n",
       "min         1.000       1.000            1993-01-01 00:00:00       0.000   \n",
       "25%    430262.750    1204.000            1996-01-16 00:00:00     135.900   \n",
       "50%    858506.500    2434.000            1997-04-10 00:00:00    2100.000   \n",
       "75%   2060979.250    3660.000            1998-02-28 00:00:00    6800.000   \n",
       "max   3682987.000   11382.000            1998-12-31 00:00:00   87400.000   \n",
       "std   1227486.508    2477.345                            NaN    9522.735   \n",
       "\n",
       "          balance  partner_account  \n",
       "count 1056320.000      1056320.000  \n",
       "mean    38518.331     12770682.211  \n",
       "min    -41125.700         -999.000  \n",
       "25%     22402.500         -999.000  \n",
       "50%     33143.400         -999.000  \n",
       "75%     49603.625      3410566.000  \n",
       "max    209637.000     99994199.000  \n",
       "std     22117.868     26136576.178  "
      ]
     },
     "execution_count": 168,
     "metadata": {},
     "output_type": "execute_result"
    }
   ],
   "source": [
    "trans.describe()"
   ]
  },
  {
   "cell_type": "code",
   "execution_count": 169,
   "metadata": {},
   "outputs": [
    {
     "data": {
      "image/png": "[encoded data removed]",
      "text/plain": [
       "<Figure size 1200x500 with 3 Axes>"
      ]
     },
     "metadata": {},
     "output_type": "display_data"
    }
   ],
   "source": [
    "# Ustawienie stylu wykresu\n",
    "plt.style.use('ggplot')\n",
    "plt.figure(figsize=(12, 5))\n",
    "\n",
    "# Histogram dla 'amount'\n",
    "plt.subplot(1, 3, 1)\n",
    "plt.hist(trans['amount'], bins=100, color='blue')\n",
    "plt.title('Histogram dla Amount')\n",
    "plt.xlabel('Amount')\n",
    "plt.ylabel('Frequency')\n",
    "plt.yscale('log')  # Logarytmiczna skala Y, aby lepiej zobaczyć rozkład\n",
    "\n",
    "# Histogram dla 'balance'\n",
    "plt.subplot(1, 3, 2)\n",
    "plt.hist(trans['balance'], bins=100, color='red')\n",
    "plt.title('Histogram dla Balance')\n",
    "plt.xlabel('Balance')\n",
    "plt.ylabel('Frequency')\n",
    "plt.yscale('log')\n",
    "\n",
    "# Histogram dla 'partner_account'\n",
    "plt.subplot(1, 3, 3)\n",
    "plt.hist(trans[trans['partner_account'] > -999]['partner_account'], bins=100, color='green') # wykluczenie wartości -999 z histogramu\n",
    "plt.title('Histogram dla Partner Account')\n",
    "plt.xlabel('Partner Account')\n",
    "plt.ylabel('Frequency')\n",
    "plt.yscale('log')\n",
    "\n",
    "plt.tight_layout()\n",
    "plt.show()"
   ]
  },
  {
   "cell_type": "markdown",
   "metadata": {},
   "source": [
    "#### Za pomoca wykresow przejrzyj outliery"
   ]
  },
  {
   "cell_type": "markdown",
   "metadata": {},
   "source": [
    "### Histogram dla Amount\n",
    "\n",
    "Rozkład kwot transakcji `Amount` wykazuje ciężki prawy ogon. Większość transakcji ma stosunkowo niską wartość, ale jest też widoczna niewielka liczba transakcji z bardzo wysokimi kwotami, zwłaszcza zbliżającymi się do `87 400`.\n",
    "\n",
    "*Wnioski: Ostatnie słupki histogramu, które oddzielają się od głównego skupienia, są wartościami odstającymi. Te wartości mogą wpływać na analizy, takie jak obliczanie średnich, i mogą wymagać dalszej analizy lub specjalnego traktowania, na przykład przez przycinanie (trimming) lub stosowanie transformacji logarytmicznej.*\n",
    "\n",
    "### Histogram dla Balance\n",
    "`Balance` wykazuje jednolity rozkład z wyraźnymi wartościami odstającymi na obu końcach zakresu, szczególnie na dodatnim końcu, gdzie saldo przekracza `200 000`.\n",
    "\n",
    "*Wnioski: Bardzo wysokie saldo może wskazywać na duże depozyty lub kumulację środków na koncie, które może być normalne w przypadku pewnych typów kont, ale również może wskazywać na nietypowe lub błędne transakcje.*\n",
    "\n",
    "### Histogram dla Partner Account (bez wartości -999)\n",
    "\n",
    "Histogram `Partner Account bez wartości placeholdera -999` prezentuje równomierny rozkład numerów, z wyjątkiem silnego skupienia w najniższym zakresie wartości. Choć większość transakcji koncentruje się na mniejszych numerach kont, to rozkład przez cały zakres jest stosunkowo płaski z kilkoma mniejszymi pikami rozłożonymi równomiernie.\n",
    "\n",
    "*Wnioski: Równomierny rozkład numerów kont partnerów sugeruje, że nie występują dominujące konta. Brak wyraźnych wartości odstających na wyższym końcu zakresu sugeruje, że nie ma anomalii w formie ekstremalnie dużych numerów kont, które mogłyby wskazywać na błędy lub specyficzne przypadki operacyjne.*"
   ]
  },
  {
   "cell_type": "markdown",
   "metadata": {},
   "source": [
    "### 13. Scal (złączenie z lewej) `account` i `district` w nową ramkę DataFrame o nazwie `account_district` używając ich wspólnych kolumn."
   ]
  },
  {
   "cell_type": "code",
   "execution_count": 177,
   "metadata": {},
   "outputs": [
    {
     "data": {
      "text/html": [
       "<div>\n",
       "<style scoped>\n",
       "    .dataframe tbody tr th:only-of-type {\n",
       "        vertical-align: middle;\n",
       "    }\n",
       "\n",
       "    .dataframe tbody tr th {\n",
       "        vertical-align: top;\n",
       "    }\n",
       "\n",
       "    .dataframe thead th {\n",
       "        text-align: right;\n",
       "    }\n",
       "</style>\n",
       "<table border=\"1\" class=\"dataframe\">\n",
       "  <thead>\n",
       "    <tr style=\"text-align: right;\">\n",
       "      <th></th>\n",
       "      <th>account_id</th>\n",
       "      <th>district_id</th>\n",
       "      <th>frequency</th>\n",
       "      <th>account_open_date</th>\n",
       "      <th>client_id</th>\n",
       "      <th>district_name</th>\n",
       "      <th>region</th>\n",
       "      <th>population</th>\n",
       "      <th>average_salary</th>\n",
       "      <th>unemployment_rate</th>\n",
       "      <th>num_committed_crimes</th>\n",
       "    </tr>\n",
       "  </thead>\n",
       "  <tbody>\n",
       "    <tr>\n",
       "      <th>0</th>\n",
       "      <td>576</td>\n",
       "      <td>55</td>\n",
       "      <td>MONTHLY STATEMENTS</td>\n",
       "      <td>1993-01-01</td>\n",
       "      <td>692</td>\n",
       "      <td>Brno - Venkov</td>\n",
       "      <td>South Moravia</td>\n",
       "      <td>157042.000</td>\n",
       "      <td>9072.275</td>\n",
       "      <td>2.430</td>\n",
       "      <td>3894.000</td>\n",
       "    </tr>\n",
       "    <tr>\n",
       "      <th>1</th>\n",
       "      <td>3818</td>\n",
       "      <td>74</td>\n",
       "      <td>MONTHLY STATEMENTS</td>\n",
       "      <td>1993-01-01</td>\n",
       "      <td>4601</td>\n",
       "      <td>Ostrava - Mesto</td>\n",
       "      <td>North Moravia</td>\n",
       "      <td>323870.000</td>\n",
       "      <td>10673.000</td>\n",
       "      <td>5.440</td>\n",
       "      <td>18347.000</td>\n",
       "    </tr>\n",
       "    <tr>\n",
       "      <th>2</th>\n",
       "      <td>704</td>\n",
       "      <td>55</td>\n",
       "      <td>MONTHLY STATEMENTS</td>\n",
       "      <td>1993-01-01</td>\n",
       "      <td>844</td>\n",
       "      <td>Brno - Venkov</td>\n",
       "      <td>South Moravia</td>\n",
       "      <td>157042.000</td>\n",
       "      <td>9072.275</td>\n",
       "      <td>2.430</td>\n",
       "      <td>3894.000</td>\n",
       "    </tr>\n",
       "    <tr>\n",
       "      <th>3</th>\n",
       "      <td>2378</td>\n",
       "      <td>16</td>\n",
       "      <td>MONTHLY STATEMENTS</td>\n",
       "      <td>1993-01-01</td>\n",
       "      <td>2873</td>\n",
       "      <td>Jindrichuv Hradec</td>\n",
       "      <td>South Bohemia</td>\n",
       "      <td>93931.000</td>\n",
       "      <td>8427.000</td>\n",
       "      <td>1.540</td>\n",
       "      <td>1913.000</td>\n",
       "    </tr>\n",
       "    <tr>\n",
       "      <th>4</th>\n",
       "      <td>2632</td>\n",
       "      <td>24</td>\n",
       "      <td>MONTHLY STATEMENTS</td>\n",
       "      <td>1993-01-02</td>\n",
       "      <td>3177</td>\n",
       "      <td>Karlovy Vary</td>\n",
       "      <td>West Bohemia</td>\n",
       "      <td>122603.000</td>\n",
       "      <td>8991.000</td>\n",
       "      <td>2.010</td>\n",
       "      <td>5273.000</td>\n",
       "    </tr>\n",
       "  </tbody>\n",
       "</table>\n",
       "</div>"
      ],
      "text/plain": [
       "   account_id  district_id           frequency account_open_date  client_id  \\\n",
       "0         576           55  MONTHLY STATEMENTS        1993-01-01        692   \n",
       "1        3818           74  MONTHLY STATEMENTS        1993-01-01       4601   \n",
       "2         704           55  MONTHLY STATEMENTS        1993-01-01        844   \n",
       "3        2378           16  MONTHLY STATEMENTS        1993-01-01       2873   \n",
       "4        2632           24  MONTHLY STATEMENTS        1993-01-02       3177   \n",
       "\n",
       "       district_name         region  population  average_salary  \\\n",
       "0      Brno - Venkov  South Moravia  157042.000        9072.275   \n",
       "1    Ostrava - Mesto  North Moravia  323870.000       10673.000   \n",
       "2      Brno - Venkov  South Moravia  157042.000        9072.275   \n",
       "3  Jindrichuv Hradec  South Bohemia   93931.000        8427.000   \n",
       "4       Karlovy Vary   West Bohemia  122603.000        8991.000   \n",
       "\n",
       "   unemployment_rate  num_committed_crimes  \n",
       "0              2.430              3894.000  \n",
       "1              5.440             18347.000  \n",
       "2              2.430              3894.000  \n",
       "3              1.540              1913.000  \n",
       "4              2.010              5273.000  "
      ]
     },
     "execution_count": 177,
     "metadata": {},
     "output_type": "execute_result"
    }
   ],
   "source": [
    "account_district = pd.merge(account, district, on='district_id', how='left')\n",
    "account_district.head()"
   ]
  },
  {
   "cell_type": "markdown",
   "metadata": {},
   "source": [
    "### 14. Sprawdź podsumowanie informacji o `account_district`, czy brakuje jakichkolwiek danych?"
   ]
  },
  {
   "cell_type": "code",
   "execution_count": 178,
   "metadata": {},
   "outputs": [
    {
     "name": "stdout",
     "output_type": "stream",
     "text": [
      "<class 'pandas.core.frame.DataFrame'>\n",
      "RangeIndex: 4500 entries, 0 to 4499\n",
      "Data columns (total 11 columns):\n",
      " #   Column                Non-Null Count  Dtype         \n",
      "---  ------                --------------  -----         \n",
      " 0   account_id            4500 non-null   int64         \n",
      " 1   district_id           4500 non-null   int64         \n",
      " 2   frequency             4500 non-null   object        \n",
      " 3   account_open_date     4500 non-null   datetime64[ns]\n",
      " 4   client_id             4500 non-null   int64         \n",
      " 5   district_name         4460 non-null   object        \n",
      " 6   region                4460 non-null   object        \n",
      " 7   population            4460 non-null   float64       \n",
      " 8   average_salary        4460 non-null   float64       \n",
      " 9   unemployment_rate     4460 non-null   float64       \n",
      " 10  num_committed_crimes  4460 non-null   float64       \n",
      "dtypes: datetime64[ns](1), float64(4), int64(3), object(3)\n",
      "memory usage: 386.8+ KB\n"
     ]
    }
   ],
   "source": [
    "account_district.info()"
   ]
  },
  {
   "cell_type": "markdown",
   "metadata": {},
   "source": [
    "#### Sprawdz braki danych w  `account_district`"
   ]
  },
  {
   "cell_type": "code",
   "execution_count": 179,
   "metadata": {},
   "outputs": [
    {
     "data": {
      "text/plain": [
       "account_id               0\n",
       "district_id              0\n",
       "frequency                0\n",
       "account_open_date        0\n",
       "client_id                0\n",
       "district_name           40\n",
       "region                  40\n",
       "population              40\n",
       "average_salary          40\n",
       "unemployment_rate       40\n",
       "num_committed_crimes    40\n",
       "dtype: int64"
      ]
     },
     "execution_count": 179,
     "metadata": {},
     "output_type": "execute_result"
    }
   ],
   "source": [
    "missing_data = account_district.isna().sum()\n",
    "missing_data"
   ]
  },
  {
   "cell_type": "markdown",
   "metadata": {},
   "source": [
    "#### Użyj `SimpleImputer` z `sklearn`, aby przypisać brakujące dane w kolumnach `population`, `average_salary`, `unemployment_rate`, `num_committed_crimes` za pomocą ich średnich\n",
    "\n",
    "**Zadanie wymaga samodzielnego zerknięcia do dokumentacji biblioteki**"
   ]
  },
  {
   "cell_type": "code",
   "execution_count": 180,
   "metadata": {},
   "outputs": [],
   "source": [
    "from sklearn.impute import SimpleImputer\n",
    "\n",
    "imp_mean = SimpleImputer(strategy='mean')\n",
    "\n",
    "# Wybranie kolumn do imputacji\n",
    "columns_to_impute = ['population', 'average_salary', 'unemployment_rate', 'num_committed_crimes']\n",
    "\n",
    "# Dopasowanie imputera i transformacja danych\n",
    "imputed_data = imp_mean.fit_transform(account_district[columns_to_impute])"
   ]
  },
  {
   "cell_type": "code",
   "execution_count": 181,
   "metadata": {},
   "outputs": [
    {
     "data": {
      "text/html": [
       "<div>\n",
       "<style scoped>\n",
       "    .dataframe tbody tr th:only-of-type {\n",
       "        vertical-align: middle;\n",
       "    }\n",
       "\n",
       "    .dataframe tbody tr th {\n",
       "        vertical-align: top;\n",
       "    }\n",
       "\n",
       "    .dataframe thead th {\n",
       "        text-align: right;\n",
       "    }\n",
       "</style>\n",
       "<table border=\"1\" class=\"dataframe\">\n",
       "  <thead>\n",
       "    <tr style=\"text-align: right;\">\n",
       "      <th></th>\n",
       "      <th>account_id</th>\n",
       "      <th>district_id</th>\n",
       "      <th>frequency</th>\n",
       "      <th>account_open_date</th>\n",
       "      <th>client_id</th>\n",
       "      <th>district_name</th>\n",
       "      <th>region</th>\n",
       "      <th>population</th>\n",
       "      <th>average_salary</th>\n",
       "      <th>unemployment_rate</th>\n",
       "      <th>num_committed_crimes</th>\n",
       "    </tr>\n",
       "  </thead>\n",
       "  <tbody>\n",
       "    <tr>\n",
       "      <th>0</th>\n",
       "      <td>576</td>\n",
       "      <td>55</td>\n",
       "      <td>MONTHLY STATEMENTS</td>\n",
       "      <td>1993-01-01</td>\n",
       "      <td>692</td>\n",
       "      <td>Brno - Venkov</td>\n",
       "      <td>South Moravia</td>\n",
       "      <td>157042.000</td>\n",
       "      <td>9072.275</td>\n",
       "      <td>2.430</td>\n",
       "      <td>3894.000</td>\n",
       "    </tr>\n",
       "    <tr>\n",
       "      <th>1</th>\n",
       "      <td>3818</td>\n",
       "      <td>74</td>\n",
       "      <td>MONTHLY STATEMENTS</td>\n",
       "      <td>1993-01-01</td>\n",
       "      <td>4601</td>\n",
       "      <td>Ostrava - Mesto</td>\n",
       "      <td>North Moravia</td>\n",
       "      <td>323870.000</td>\n",
       "      <td>10673.000</td>\n",
       "      <td>5.440</td>\n",
       "      <td>18347.000</td>\n",
       "    </tr>\n",
       "    <tr>\n",
       "      <th>2</th>\n",
       "      <td>704</td>\n",
       "      <td>55</td>\n",
       "      <td>MONTHLY STATEMENTS</td>\n",
       "      <td>1993-01-01</td>\n",
       "      <td>844</td>\n",
       "      <td>Brno - Venkov</td>\n",
       "      <td>South Moravia</td>\n",
       "      <td>157042.000</td>\n",
       "      <td>9072.275</td>\n",
       "      <td>2.430</td>\n",
       "      <td>3894.000</td>\n",
       "    </tr>\n",
       "    <tr>\n",
       "      <th>3</th>\n",
       "      <td>2378</td>\n",
       "      <td>16</td>\n",
       "      <td>MONTHLY STATEMENTS</td>\n",
       "      <td>1993-01-01</td>\n",
       "      <td>2873</td>\n",
       "      <td>Jindrichuv Hradec</td>\n",
       "      <td>South Bohemia</td>\n",
       "      <td>93931.000</td>\n",
       "      <td>8427.000</td>\n",
       "      <td>1.540</td>\n",
       "      <td>1913.000</td>\n",
       "    </tr>\n",
       "    <tr>\n",
       "      <th>4</th>\n",
       "      <td>2632</td>\n",
       "      <td>24</td>\n",
       "      <td>MONTHLY STATEMENTS</td>\n",
       "      <td>1993-01-02</td>\n",
       "      <td>3177</td>\n",
       "      <td>Karlovy Vary</td>\n",
       "      <td>West Bohemia</td>\n",
       "      <td>122603.000</td>\n",
       "      <td>8991.000</td>\n",
       "      <td>2.010</td>\n",
       "      <td>5273.000</td>\n",
       "    </tr>\n",
       "  </tbody>\n",
       "</table>\n",
       "</div>"
      ],
      "text/plain": [
       "   account_id  district_id           frequency account_open_date  client_id  \\\n",
       "0         576           55  MONTHLY STATEMENTS        1993-01-01        692   \n",
       "1        3818           74  MONTHLY STATEMENTS        1993-01-01       4601   \n",
       "2         704           55  MONTHLY STATEMENTS        1993-01-01        844   \n",
       "3        2378           16  MONTHLY STATEMENTS        1993-01-01       2873   \n",
       "4        2632           24  MONTHLY STATEMENTS        1993-01-02       3177   \n",
       "\n",
       "       district_name         region  population  average_salary  \\\n",
       "0      Brno - Venkov  South Moravia  157042.000        9072.275   \n",
       "1    Ostrava - Mesto  North Moravia  323870.000       10673.000   \n",
       "2      Brno - Venkov  South Moravia  157042.000        9072.275   \n",
       "3  Jindrichuv Hradec  South Bohemia   93931.000        8427.000   \n",
       "4       Karlovy Vary   West Bohemia  122603.000        8991.000   \n",
       "\n",
       "   unemployment_rate  num_committed_crimes  \n",
       "0              2.430              3894.000  \n",
       "1              5.440             18347.000  \n",
       "2              2.430              3894.000  \n",
       "3              1.540              1913.000  \n",
       "4              2.010              5273.000  "
      ]
     },
     "execution_count": 181,
     "metadata": {},
     "output_type": "execute_result"
    }
   ],
   "source": [
    "# przypisanie imputowanych wartości\n",
    "account_district[columns_to_impute] = imputed_data\n",
    "\n",
    "# Sprawdzenie wyników\n",
    "account_district.head()"
   ]
  },
  {
   "cell_type": "code",
   "execution_count": 182,
   "metadata": {},
   "outputs": [
    {
     "data": {
      "text/plain": [
       "account_id               0\n",
       "district_id              0\n",
       "frequency                0\n",
       "account_open_date        0\n",
       "client_id                0\n",
       "district_name           40\n",
       "region                  40\n",
       "population               0\n",
       "average_salary           0\n",
       "unemployment_rate        0\n",
       "num_committed_crimes     0\n",
       "dtype: int64"
      ]
     },
     "execution_count": 182,
     "metadata": {},
     "output_type": "execute_result"
    }
   ],
   "source": [
    "account_district.isna().sum()"
   ]
  },
  {
   "cell_type": "markdown",
   "metadata": {},
   "source": [
    "#### Użyj metody `fillna` do imputowania brakujących danych w kolumnach `district_name` i `region` z 'UNKNOWN'"
   ]
  },
  {
   "cell_type": "code",
   "execution_count": 183,
   "metadata": {},
   "outputs": [],
   "source": [
    "account_district['district_name'] = account_district['district_name'].fillna('UNKNOWN')\n",
    "account_district['region'] = account_district['region'].fillna('UNKNOWN')"
   ]
  },
  {
   "cell_type": "code",
   "execution_count": 184,
   "metadata": {},
   "outputs": [
    {
     "data": {
      "text/plain": [
       "account_id              0\n",
       "district_id             0\n",
       "frequency               0\n",
       "account_open_date       0\n",
       "client_id               0\n",
       "district_name           0\n",
       "region                  0\n",
       "population              0\n",
       "average_salary          0\n",
       "unemployment_rate       0\n",
       "num_committed_crimes    0\n",
       "dtype: int64"
      ]
     },
     "execution_count": 184,
     "metadata": {},
     "output_type": "execute_result"
    }
   ],
   "source": [
    "account_district.isna().sum()"
   ]
  },
  {
   "cell_type": "markdown",
   "metadata": {},
   "source": [
    "### 15. Scal (złączenie z lewej) `trans` i `account_district` w nową ramkę DataFrame o nazwie `all_data` używając ich wspólnych kolumn"
   ]
  },
  {
   "cell_type": "code",
   "execution_count": 185,
   "metadata": {},
   "outputs": [
    {
     "data": {
      "text/plain": [
       "(Index(['trans_id', 'account_id', 'date', 'type', 'operation_type', 'amount',\n",
       "        'balance', 'description', 'partner_bank', 'partner_account'],\n",
       "       dtype='object'),\n",
       " Index(['account_id', 'district_id', 'frequency', 'account_open_date',\n",
       "        'client_id', 'district_name', 'region', 'population', 'average_salary',\n",
       "        'unemployment_rate', 'num_committed_crimes'],\n",
       "       dtype='object'))"
      ]
     },
     "execution_count": 185,
     "metadata": {},
     "output_type": "execute_result"
    }
   ],
   "source": [
    "trans.columns, account_district.columns"
   ]
  },
  {
   "cell_type": "code",
   "execution_count": 186,
   "metadata": {},
   "outputs": [],
   "source": [
    "all_data = pd.merge(trans, account_district, on='account_id', how='left')"
   ]
  },
  {
   "cell_type": "code",
   "execution_count": 187,
   "metadata": {},
   "outputs": [
    {
     "data": {
      "text/html": [
       "<div>\n",
       "<style scoped>\n",
       "    .dataframe tbody tr th:only-of-type {\n",
       "        vertical-align: middle;\n",
       "    }\n",
       "\n",
       "    .dataframe tbody tr th {\n",
       "        vertical-align: top;\n",
       "    }\n",
       "\n",
       "    .dataframe thead th {\n",
       "        text-align: right;\n",
       "    }\n",
       "</style>\n",
       "<table border=\"1\" class=\"dataframe\">\n",
       "  <thead>\n",
       "    <tr style=\"text-align: right;\">\n",
       "      <th></th>\n",
       "      <th>trans_id</th>\n",
       "      <th>account_id</th>\n",
       "      <th>date</th>\n",
       "      <th>type</th>\n",
       "      <th>operation_type</th>\n",
       "      <th>amount</th>\n",
       "      <th>balance</th>\n",
       "      <th>description</th>\n",
       "      <th>partner_bank</th>\n",
       "      <th>partner_account</th>\n",
       "      <th>district_id</th>\n",
       "      <th>frequency</th>\n",
       "      <th>account_open_date</th>\n",
       "      <th>client_id</th>\n",
       "      <th>district_name</th>\n",
       "      <th>region</th>\n",
       "      <th>population</th>\n",
       "      <th>average_salary</th>\n",
       "      <th>unemployment_rate</th>\n",
       "      <th>num_committed_crimes</th>\n",
       "    </tr>\n",
       "  </thead>\n",
       "  <tbody>\n",
       "    <tr>\n",
       "      <th>0</th>\n",
       "      <td>695247</td>\n",
       "      <td>2378</td>\n",
       "      <td>1993-01-01</td>\n",
       "      <td>CREDIT</td>\n",
       "      <td>CREDIT IN CASH</td>\n",
       "      <td>700.000</td>\n",
       "      <td>700.000</td>\n",
       "      <td>UNKNOWN</td>\n",
       "      <td>UNKNOWN</td>\n",
       "      <td>-999.000</td>\n",
       "      <td>16</td>\n",
       "      <td>MONTHLY STATEMENTS</td>\n",
       "      <td>1993-01-01</td>\n",
       "      <td>2873</td>\n",
       "      <td>Jindrichuv Hradec</td>\n",
       "      <td>South Bohemia</td>\n",
       "      <td>93931.000</td>\n",
       "      <td>8427.000</td>\n",
       "      <td>1.540</td>\n",
       "      <td>1913.000</td>\n",
       "    </tr>\n",
       "    <tr>\n",
       "      <th>1</th>\n",
       "      <td>171812</td>\n",
       "      <td>576</td>\n",
       "      <td>1993-01-01</td>\n",
       "      <td>CREDIT</td>\n",
       "      <td>CREDIT IN CASH</td>\n",
       "      <td>900.000</td>\n",
       "      <td>900.000</td>\n",
       "      <td>UNKNOWN</td>\n",
       "      <td>UNKNOWN</td>\n",
       "      <td>-999.000</td>\n",
       "      <td>55</td>\n",
       "      <td>MONTHLY STATEMENTS</td>\n",
       "      <td>1993-01-01</td>\n",
       "      <td>692</td>\n",
       "      <td>Brno - Venkov</td>\n",
       "      <td>South Moravia</td>\n",
       "      <td>157042.000</td>\n",
       "      <td>9072.275</td>\n",
       "      <td>2.430</td>\n",
       "      <td>3894.000</td>\n",
       "    </tr>\n",
       "    <tr>\n",
       "      <th>2</th>\n",
       "      <td>207264</td>\n",
       "      <td>704</td>\n",
       "      <td>1993-01-01</td>\n",
       "      <td>CREDIT</td>\n",
       "      <td>CREDIT IN CASH</td>\n",
       "      <td>1000.000</td>\n",
       "      <td>1000.000</td>\n",
       "      <td>UNKNOWN</td>\n",
       "      <td>UNKNOWN</td>\n",
       "      <td>-999.000</td>\n",
       "      <td>55</td>\n",
       "      <td>MONTHLY STATEMENTS</td>\n",
       "      <td>1993-01-01</td>\n",
       "      <td>844</td>\n",
       "      <td>Brno - Venkov</td>\n",
       "      <td>South Moravia</td>\n",
       "      <td>157042.000</td>\n",
       "      <td>9072.275</td>\n",
       "      <td>2.430</td>\n",
       "      <td>3894.000</td>\n",
       "    </tr>\n",
       "    <tr>\n",
       "      <th>3</th>\n",
       "      <td>1117247</td>\n",
       "      <td>3818</td>\n",
       "      <td>1993-01-01</td>\n",
       "      <td>CREDIT</td>\n",
       "      <td>CREDIT IN CASH</td>\n",
       "      <td>600.000</td>\n",
       "      <td>600.000</td>\n",
       "      <td>UNKNOWN</td>\n",
       "      <td>UNKNOWN</td>\n",
       "      <td>-999.000</td>\n",
       "      <td>74</td>\n",
       "      <td>MONTHLY STATEMENTS</td>\n",
       "      <td>1993-01-01</td>\n",
       "      <td>4601</td>\n",
       "      <td>Ostrava - Mesto</td>\n",
       "      <td>North Moravia</td>\n",
       "      <td>323870.000</td>\n",
       "      <td>10673.000</td>\n",
       "      <td>5.440</td>\n",
       "      <td>18347.000</td>\n",
       "    </tr>\n",
       "    <tr>\n",
       "      <th>4</th>\n",
       "      <td>579373</td>\n",
       "      <td>1972</td>\n",
       "      <td>1993-01-02</td>\n",
       "      <td>CREDIT</td>\n",
       "      <td>CREDIT IN CASH</td>\n",
       "      <td>400.000</td>\n",
       "      <td>400.000</td>\n",
       "      <td>UNKNOWN</td>\n",
       "      <td>UNKNOWN</td>\n",
       "      <td>-999.000</td>\n",
       "      <td>77</td>\n",
       "      <td>MONTHLY STATEMENTS</td>\n",
       "      <td>1993-01-02</td>\n",
       "      <td>2397</td>\n",
       "      <td>UNKNOWN</td>\n",
       "      <td>UNKNOWN</td>\n",
       "      <td>270325.692</td>\n",
       "      <td>9482.018</td>\n",
       "      <td>3.572</td>\n",
       "      <td>16486.171</td>\n",
       "    </tr>\n",
       "  </tbody>\n",
       "</table>\n",
       "</div>"
      ],
      "text/plain": [
       "   trans_id  account_id       date    type  operation_type   amount  balance  \\\n",
       "0    695247        2378 1993-01-01  CREDIT  CREDIT IN CASH  700.000  700.000   \n",
       "1    171812         576 1993-01-01  CREDIT  CREDIT IN CASH  900.000  900.000   \n",
       "2    207264         704 1993-01-01  CREDIT  CREDIT IN CASH 1000.000 1000.000   \n",
       "3   1117247        3818 1993-01-01  CREDIT  CREDIT IN CASH  600.000  600.000   \n",
       "4    579373        1972 1993-01-02  CREDIT  CREDIT IN CASH  400.000  400.000   \n",
       "\n",
       "  description partner_bank  partner_account  district_id           frequency  \\\n",
       "0     UNKNOWN      UNKNOWN         -999.000           16  MONTHLY STATEMENTS   \n",
       "1     UNKNOWN      UNKNOWN         -999.000           55  MONTHLY STATEMENTS   \n",
       "2     UNKNOWN      UNKNOWN         -999.000           55  MONTHLY STATEMENTS   \n",
       "3     UNKNOWN      UNKNOWN         -999.000           74  MONTHLY STATEMENTS   \n",
       "4     UNKNOWN      UNKNOWN         -999.000           77  MONTHLY STATEMENTS   \n",
       "\n",
       "  account_open_date  client_id      district_name         region  population  \\\n",
       "0        1993-01-01       2873  Jindrichuv Hradec  South Bohemia   93931.000   \n",
       "1        1993-01-01        692      Brno - Venkov  South Moravia  157042.000   \n",
       "2        1993-01-01        844      Brno - Venkov  South Moravia  157042.000   \n",
       "3        1993-01-01       4601    Ostrava - Mesto  North Moravia  323870.000   \n",
       "4        1993-01-02       2397            UNKNOWN        UNKNOWN  270325.692   \n",
       "\n",
       "   average_salary  unemployment_rate  num_committed_crimes  \n",
       "0        8427.000              1.540              1913.000  \n",
       "1        9072.275              2.430              3894.000  \n",
       "2        9072.275              2.430              3894.000  \n",
       "3       10673.000              5.440             18347.000  \n",
       "4        9482.018              3.572             16486.171  "
      ]
     },
     "execution_count": 187,
     "metadata": {},
     "output_type": "execute_result"
    }
   ],
   "source": [
    "all_data.head()"
   ]
  },
  {
   "cell_type": "markdown",
   "metadata": {},
   "source": [
    "#### Sprawdz dane z uzyciem summary dla `all_data`"
   ]
  },
  {
   "cell_type": "code",
   "execution_count": 191,
   "metadata": {},
   "outputs": [
    {
     "name": "stdout",
     "output_type": "stream",
     "text": [
      "<class 'pandas.core.frame.DataFrame'>\n",
      "RangeIndex: 1056320 entries, 0 to 1056319\n",
      "Data columns (total 20 columns):\n",
      " #   Column                Non-Null Count    Dtype         \n",
      "---  ------                --------------    -----         \n",
      " 0   trans_id              1056320 non-null  int64         \n",
      " 1   account_id            1056320 non-null  int64         \n",
      " 2   date                  1056320 non-null  datetime64[ns]\n",
      " 3   type                  1056320 non-null  object        \n",
      " 4   operation_type        1056320 non-null  object        \n",
      " 5   amount                1056320 non-null  float64       \n",
      " 6   balance               1056320 non-null  float64       \n",
      " 7   description           1056320 non-null  object        \n",
      " 8   partner_bank          1056320 non-null  object        \n",
      " 9   partner_account       1056320 non-null  float64       \n",
      " 10  district_id           1056320 non-null  int64         \n",
      " 11  frequency             1056320 non-null  object        \n",
      " 12  account_open_date     1056320 non-null  datetime64[ns]\n",
      " 13  client_id             1056320 non-null  int64         \n",
      " 14  district_name         1056320 non-null  object        \n",
      " 15  region                1056320 non-null  object        \n",
      " 16  population            1056320 non-null  float64       \n",
      " 17  average_salary        1056320 non-null  float64       \n",
      " 18  unemployment_rate     1056320 non-null  float64       \n",
      " 19  num_committed_crimes  1056320 non-null  float64       \n",
      "dtypes: datetime64[ns](2), float64(7), int64(4), object(7)\n",
      "memory usage: 161.2+ MB\n"
     ]
    }
   ],
   "source": [
    "# Wyświetlenie informacji o df 'all_data'\n",
    "all_data.info()"
   ]
  },
  {
   "cell_type": "code",
   "execution_count": 192,
   "metadata": {},
   "outputs": [
    {
     "data": {
      "text/html": [
       "<div>\n",
       "<style scoped>\n",
       "    .dataframe tbody tr th:only-of-type {\n",
       "        vertical-align: middle;\n",
       "    }\n",
       "\n",
       "    .dataframe tbody tr th {\n",
       "        vertical-align: top;\n",
       "    }\n",
       "\n",
       "    .dataframe thead th {\n",
       "        text-align: right;\n",
       "    }\n",
       "</style>\n",
       "<table border=\"1\" class=\"dataframe\">\n",
       "  <thead>\n",
       "    <tr style=\"text-align: right;\">\n",
       "      <th></th>\n",
       "      <th>trans_id</th>\n",
       "      <th>account_id</th>\n",
       "      <th>date</th>\n",
       "      <th>amount</th>\n",
       "      <th>balance</th>\n",
       "      <th>partner_account</th>\n",
       "      <th>district_id</th>\n",
       "      <th>account_open_date</th>\n",
       "      <th>client_id</th>\n",
       "      <th>population</th>\n",
       "      <th>average_salary</th>\n",
       "      <th>unemployment_rate</th>\n",
       "      <th>num_committed_crimes</th>\n",
       "    </tr>\n",
       "  </thead>\n",
       "  <tbody>\n",
       "    <tr>\n",
       "      <th>count</th>\n",
       "      <td>1056320.000</td>\n",
       "      <td>1056320.000</td>\n",
       "      <td>1056320</td>\n",
       "      <td>1056320.000</td>\n",
       "      <td>1056320.000</td>\n",
       "      <td>1056320.000</td>\n",
       "      <td>1056320.000</td>\n",
       "      <td>1056320</td>\n",
       "      <td>1056320.000</td>\n",
       "      <td>1056320.000</td>\n",
       "      <td>1056320.000</td>\n",
       "      <td>1056320.000</td>\n",
       "      <td>1056320.000</td>\n",
       "    </tr>\n",
       "    <tr>\n",
       "      <th>mean</th>\n",
       "      <td>1335310.704</td>\n",
       "      <td>2936.867</td>\n",
       "      <td>1997-01-04 07:29:27.037261952</td>\n",
       "      <td>5924.146</td>\n",
       "      <td>38518.331</td>\n",
       "      <td>12770682.211</td>\n",
       "      <td>37.428</td>\n",
       "      <td>1994-11-15 21:10:28.255074176</td>\n",
       "      <td>3567.453</td>\n",
       "      <td>273538.657</td>\n",
       "      <td>9499.940</td>\n",
       "      <td>3.581</td>\n",
       "      <td>16756.603</td>\n",
       "    </tr>\n",
       "    <tr>\n",
       "      <th>min</th>\n",
       "      <td>1.000</td>\n",
       "      <td>1.000</td>\n",
       "      <td>1993-01-01 00:00:00</td>\n",
       "      <td>0.000</td>\n",
       "      <td>-41125.700</td>\n",
       "      <td>-999.000</td>\n",
       "      <td>1.000</td>\n",
       "      <td>1993-01-01 00:00:00</td>\n",
       "      <td>1.000</td>\n",
       "      <td>42821.000</td>\n",
       "      <td>8110.000</td>\n",
       "      <td>0.430</td>\n",
       "      <td>888.000</td>\n",
       "    </tr>\n",
       "    <tr>\n",
       "      <th>25%</th>\n",
       "      <td>430262.750</td>\n",
       "      <td>1204.000</td>\n",
       "      <td>1996-01-16 00:00:00</td>\n",
       "      <td>135.900</td>\n",
       "      <td>22402.500</td>\n",
       "      <td>-999.000</td>\n",
       "      <td>13.000</td>\n",
       "      <td>1993-07-28 00:00:00</td>\n",
       "      <td>1453.000</td>\n",
       "      <td>92084.000</td>\n",
       "      <td>8561.000</td>\n",
       "      <td>2.070</td>\n",
       "      <td>2218.000</td>\n",
       "    </tr>\n",
       "    <tr>\n",
       "      <th>50%</th>\n",
       "      <td>858506.500</td>\n",
       "      <td>2434.000</td>\n",
       "      <td>1997-04-10 00:00:00</td>\n",
       "      <td>2100.000</td>\n",
       "      <td>33143.400</td>\n",
       "      <td>-999.000</td>\n",
       "      <td>38.000</td>\n",
       "      <td>1994-07-25 00:00:00</td>\n",
       "      <td>2940.000</td>\n",
       "      <td>122603.000</td>\n",
       "      <td>8980.000</td>\n",
       "      <td>3.670</td>\n",
       "      <td>3891.000</td>\n",
       "    </tr>\n",
       "    <tr>\n",
       "      <th>75%</th>\n",
       "      <td>2060979.250</td>\n",
       "      <td>3660.000</td>\n",
       "      <td>1998-02-28 00:00:00</td>\n",
       "      <td>6800.000</td>\n",
       "      <td>49603.625</td>\n",
       "      <td>3410566.000</td>\n",
       "      <td>61.000</td>\n",
       "      <td>1996-03-09 00:00:00</td>\n",
       "      <td>4413.000</td>\n",
       "      <td>226122.000</td>\n",
       "      <td>9945.418</td>\n",
       "      <td>4.720</td>\n",
       "      <td>9208.000</td>\n",
       "    </tr>\n",
       "    <tr>\n",
       "      <th>max</th>\n",
       "      <td>3682987.000</td>\n",
       "      <td>11382.000</td>\n",
       "      <td>1998-12-31 00:00:00</td>\n",
       "      <td>87400.000</td>\n",
       "      <td>209637.000</td>\n",
       "      <td>99994199.000</td>\n",
       "      <td>77.000</td>\n",
       "      <td>1997-12-29 00:00:00</td>\n",
       "      <td>13998.000</td>\n",
       "      <td>1204953.000</td>\n",
       "      <td>12541.000</td>\n",
       "      <td>9.400</td>\n",
       "      <td>99107.000</td>\n",
       "    </tr>\n",
       "    <tr>\n",
       "      <th>std</th>\n",
       "      <td>1227486.508</td>\n",
       "      <td>2477.345</td>\n",
       "      <td>NaN</td>\n",
       "      <td>9522.735</td>\n",
       "      <td>22117.868</td>\n",
       "      <td>26136576.178</td>\n",
       "      <td>25.353</td>\n",
       "      <td>NaN</td>\n",
       "      <td>3043.797</td>\n",
       "      <td>360731.752</td>\n",
       "      <td>1317.812</td>\n",
       "      <td>1.993</td>\n",
       "      <td>31498.789</td>\n",
       "    </tr>\n",
       "  </tbody>\n",
       "</table>\n",
       "</div>"
      ],
      "text/plain": [
       "         trans_id  account_id                           date      amount  \\\n",
       "count 1056320.000 1056320.000                        1056320 1056320.000   \n",
       "mean  1335310.704    2936.867  1997-01-04 07:29:27.037261952    5924.146   \n",
       "min         1.000       1.000            1993-01-01 00:00:00       0.000   \n",
       "25%    430262.750    1204.000            1996-01-16 00:00:00     135.900   \n",
       "50%    858506.500    2434.000            1997-04-10 00:00:00    2100.000   \n",
       "75%   2060979.250    3660.000            1998-02-28 00:00:00    6800.000   \n",
       "max   3682987.000   11382.000            1998-12-31 00:00:00   87400.000   \n",
       "std   1227486.508    2477.345                            NaN    9522.735   \n",
       "\n",
       "          balance  partner_account  district_id  \\\n",
       "count 1056320.000      1056320.000  1056320.000   \n",
       "mean    38518.331     12770682.211       37.428   \n",
       "min    -41125.700         -999.000        1.000   \n",
       "25%     22402.500         -999.000       13.000   \n",
       "50%     33143.400         -999.000       38.000   \n",
       "75%     49603.625      3410566.000       61.000   \n",
       "max    209637.000     99994199.000       77.000   \n",
       "std     22117.868     26136576.178       25.353   \n",
       "\n",
       "                   account_open_date   client_id  population  average_salary  \\\n",
       "count                        1056320 1056320.000 1056320.000     1056320.000   \n",
       "mean   1994-11-15 21:10:28.255074176    3567.453  273538.657        9499.940   \n",
       "min              1993-01-01 00:00:00       1.000   42821.000        8110.000   \n",
       "25%              1993-07-28 00:00:00    1453.000   92084.000        8561.000   \n",
       "50%              1994-07-25 00:00:00    2940.000  122603.000        8980.000   \n",
       "75%              1996-03-09 00:00:00    4413.000  226122.000        9945.418   \n",
       "max              1997-12-29 00:00:00   13998.000 1204953.000       12541.000   \n",
       "std                              NaN    3043.797  360731.752        1317.812   \n",
       "\n",
       "       unemployment_rate  num_committed_crimes  \n",
       "count        1056320.000           1056320.000  \n",
       "mean               3.581             16756.603  \n",
       "min                0.430               888.000  \n",
       "25%                2.070              2218.000  \n",
       "50%                3.670              3891.000  \n",
       "75%                4.720              9208.000  \n",
       "max                9.400             99107.000  \n",
       "std                1.993             31498.789  "
      ]
     },
     "execution_count": 192,
     "metadata": {},
     "output_type": "execute_result"
    }
   ],
   "source": [
    "# Wyświetlenie statystyk opisowych\n",
    "all_data.describe()"
   ]
  },
  {
   "cell_type": "code",
   "execution_count": 193,
   "metadata": {},
   "outputs": [
    {
     "data": {
      "text/plain": [
       "trans_id                0\n",
       "account_id              0\n",
       "date                    0\n",
       "type                    0\n",
       "operation_type          0\n",
       "amount                  0\n",
       "balance                 0\n",
       "description             0\n",
       "partner_bank            0\n",
       "partner_account         0\n",
       "district_id             0\n",
       "frequency               0\n",
       "account_open_date       0\n",
       "client_id               0\n",
       "district_name           0\n",
       "region                  0\n",
       "population              0\n",
       "average_salary          0\n",
       "unemployment_rate       0\n",
       "num_committed_crimes    0\n",
       "dtype: int64"
      ]
     },
     "execution_count": 193,
     "metadata": {},
     "output_type": "execute_result"
    }
   ],
   "source": [
    "# Sprawdzenie brakujących danych w każdej kolumnie(widać też w .info())\n",
    "all_data.isna().sum()"
   ]
  },
  {
   "cell_type": "markdown",
   "metadata": {},
   "source": [
    "### 16. Utwórz nową kolumnę `account_open_year` i przypisz ją jako rok z kolumny `account_open_date`"
   ]
  },
  {
   "cell_type": "code",
   "execution_count": 196,
   "metadata": {},
   "outputs": [],
   "source": [
    "all_data['account_open_year'] = all_data['account_open_date'].dt.year"
   ]
  },
  {
   "cell_type": "code",
   "execution_count": 204,
   "metadata": {},
   "outputs": [
    {
     "data": {
      "text/html": [
       "<div>\n",
       "<style scoped>\n",
       "    .dataframe tbody tr th:only-of-type {\n",
       "        vertical-align: middle;\n",
       "    }\n",
       "\n",
       "    .dataframe tbody tr th {\n",
       "        vertical-align: top;\n",
       "    }\n",
       "\n",
       "    .dataframe thead th {\n",
       "        text-align: right;\n",
       "    }\n",
       "</style>\n",
       "<table border=\"1\" class=\"dataframe\">\n",
       "  <thead>\n",
       "    <tr style=\"text-align: right;\">\n",
       "      <th></th>\n",
       "      <th>account_open_date</th>\n",
       "      <th>account_open_year</th>\n",
       "    </tr>\n",
       "  </thead>\n",
       "  <tbody>\n",
       "    <tr>\n",
       "      <th>1056315</th>\n",
       "      <td>1996-09-20</td>\n",
       "      <td>1996</td>\n",
       "    </tr>\n",
       "    <tr>\n",
       "      <th>1056316</th>\n",
       "      <td>1995-05-15</td>\n",
       "      <td>1995</td>\n",
       "    </tr>\n",
       "    <tr>\n",
       "      <th>1056317</th>\n",
       "      <td>1996-09-27</td>\n",
       "      <td>1996</td>\n",
       "    </tr>\n",
       "    <tr>\n",
       "      <th>1056318</th>\n",
       "      <td>1993-09-09</td>\n",
       "      <td>1993</td>\n",
       "    </tr>\n",
       "    <tr>\n",
       "      <th>1056319</th>\n",
       "      <td>1993-01-28</td>\n",
       "      <td>1993</td>\n",
       "    </tr>\n",
       "  </tbody>\n",
       "</table>\n",
       "</div>"
      ],
      "text/plain": [
       "        account_open_date  account_open_year\n",
       "1056315        1996-09-20               1996\n",
       "1056316        1995-05-15               1995\n",
       "1056317        1996-09-27               1996\n",
       "1056318        1993-09-09               1993\n",
       "1056319        1993-01-28               1993"
      ]
     },
     "execution_count": 204,
     "metadata": {},
     "output_type": "execute_result"
    }
   ],
   "source": [
    "all_data[['account_open_date', 'account_open_year']].tail()"
   ]
  },
  {
   "cell_type": "markdown",
   "metadata": {},
   "source": [
    "### 17. Wyeksportuj zbiór danych w csv i podeślij go wraz z .ipynb\n",
    "\n",
    "(wystarczy część rekordów, jeśli plik będzie za duży do przesłania) "
   ]
  },
  {
   "cell_type": "code",
   "execution_count": 205,
   "metadata": {},
   "outputs": [],
   "source": [
    "all_data.to_csv('all_data_export.csv', index=False)"
   ]
  },
  {
   "cell_type": "code",
   "execution_count": 206,
   "metadata": {},
   "outputs": [],
   "source": [
    "all_data.head(3000).to_csv('all_data_first_3000.csv', index=False)"
   ]
  },
  {
   "cell_type": "markdown",
   "metadata": {},
   "source": [
    "##### Zadanie domowe wykonane dzięki nadzorowaniu przez mojego kota, który sprawdził każdy bit danych! Oto dowód, że nauka może być zabawna. 😸"
   ]
  },
  {
   "attachments": {
    "IMG-20240510-WA0000-2.jpg": {
     "image/jpeg": "[encoded data removed]"
    }
   },
   "cell_type": "markdown",
   "metadata": {},
   "source": [
    "![IMG-20240510-WA0000-2.jpg](attachment:IMG-20240510-WA0000-2.jpg)"
   ]
  }
 ],
 "metadata": {
  "kernelspec": {
   "display_name": "Python 3 (ipykernel)",
   "language": "python",
   "name": "python3"
  },
  "language_info": {
   "codemirror_mode": {
    "name": "ipython",
    "version": 3
   },
   "file_extension": ".py",
   "mimetype": "text/x-python",
   "name": "python",
   "nbconvert_exporter": "python",
   "pygments_lexer": "ipython3",
   "version": "3.11.4"
  }
 },
 "nbformat": 4,
 "nbformat_minor": 4
}
